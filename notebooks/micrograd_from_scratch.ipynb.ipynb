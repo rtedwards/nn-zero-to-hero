{
 "cells": [
  {
   "cell_type": "code",
   "execution_count": null,
   "id": "e71920eb-7aab-4032-9282-7bf6865d535d",
   "metadata": {},
   "outputs": [],
   "source": [
    "import math\n",
    "import numpy as np\n",
    "import matplotlib.pyplot as plt\n",
    "%matplotlib inline"
   ]
  },
  {
   "cell_type": "code",
   "execution_count": null,
   "id": "e0292568-095e-4571-a99f-d97af6b4c1d3",
   "metadata": {},
   "outputs": [],
   "source": [
    "from IPython.display import display, HTML\n",
    "display(HTML(\"<style>.jp-OutputArea-output {display:flex}</style>\"))"
   ]
  },
  {
   "cell_type": "markdown",
   "id": "84651554-fd5a-4516-84af-1c02e7303980",
   "metadata": {},
   "source": [
    "$$\n",
    "f(x) = 3x^2 - 4x + 5\n",
    "$$"
   ]
  },
  {
   "cell_type": "code",
   "execution_count": null,
   "id": "ef202183-592d-4455-8171-94770d6d4242",
   "metadata": {},
   "outputs": [],
   "source": [
    "def f(x):\n",
    "    return 3*x**2 - 4*x + 5"
   ]
  },
  {
   "cell_type": "code",
   "execution_count": null,
   "id": "772055a0-1487-4f43-b2f7-6cb932c594e5",
   "metadata": {},
   "outputs": [],
   "source": [
    "f(3.0)"
   ]
  },
  {
   "cell_type": "code",
   "execution_count": null,
   "id": "f4e5b6da-74ab-469b-b8ce-2d330ed587cb",
   "metadata": {},
   "outputs": [],
   "source": [
    "xs = np.arange(-5, 5, 0.25)\n",
    "ys = f(xs)\n",
    "plt.plot(xs, ys)"
   ]
  },
  {
   "cell_type": "markdown",
   "id": "df2a566c-d615-4ee0-9fa7-be58b6c6805c",
   "metadata": {},
   "source": [
    "## Derivative\n",
    "\n",
    "$$\n",
    "\\lim_{h \\to 0} = \\frac{f(x + h) - f(x)}{h}\n",
    "$$"
   ]
  },
  {
   "cell_type": "code",
   "execution_count": null,
   "id": "96559660-5352-4a60-915e-95e15a610092",
   "metadata": {},
   "outputs": [],
   "source": [
    "h = 0.0000001\n",
    "x = 2/3\n",
    "(f(x + h) - f(x)) / h"
   ]
  },
  {
   "cell_type": "markdown",
   "id": "02e61387-d122-44e6-9bee-09caa419190f",
   "metadata": {},
   "source": [
    "### more complex case\n",
    "Find derivative of $d = f(a, b, c)$ with respect to $a$, $b$, $c$\n",
    "\n",
    "$$\n",
    "\\frac{\\partial f(a, b, c)}{\\partial a}, \n",
    "\\frac{\\partial f(a, b, c)}{\\partial b}, \n",
    "\\frac{\\partial f(a, b, c)}{\\partial c}\n",
    "$$"
   ]
  },
  {
   "cell_type": "code",
   "execution_count": null,
   "id": "5e224fb3-3aa3-4d74-8c82-244d9ed9b88d",
   "metadata": {},
   "outputs": [],
   "source": [
    "a = 2.0\n",
    "b = -3.0\n",
    "c = 10.0\n",
    "d = a*b + c\n",
    "d"
   ]
  },
  {
   "cell_type": "code",
   "execution_count": null,
   "id": "ba83fdff-bafb-4123-8b5a-d94f6599c1f7",
   "metadata": {},
   "outputs": [],
   "source": [
    "h = 0.0001\n",
    "\n",
    "a = 2.0\n",
    "b = -3.0\n",
    "c = 10.0\n",
    "\n",
    "# WRT to 'a'\n",
    "d1 = a*b + c\n",
    "a += h \n",
    "d2 = a*b +c\n",
    "\n",
    "print(\"W.R.T. 'a'\")\n",
    "print(f\"d1 = {d1}\")\n",
    "print(f\"d2 = {d2}\")\n",
    "print(f\"slope = {(d2 - d1) / h}\")\n",
    "print()\n",
    "\n",
    "# WRT to 'b'\n",
    "d1 = a*b + c\n",
    "b += h \n",
    "d2 = a*b +c\n",
    "\n",
    "print(\"W.R.T. 'b'\")\n",
    "print(f\"d1 = {d1}\")\n",
    "print(f\"d2 = {d2}\")\n",
    "print(f\"slope = {(d2 - d1) / h}\")\n",
    "print()\n",
    "\n",
    "# WRT to 'c'\n",
    "d1 = a*b + c\n",
    "c += h \n",
    "d2 = a*b +c\n",
    "\n",
    "print(\"W.R.T. 'c'\")\n",
    "print(f\"d1 = {d1}\")\n",
    "print(f\"d2 = {d2}\")\n",
    "print(f\"slope = {(d2 - d1) / h}\")\n",
    "print()"
   ]
  },
  {
   "cell_type": "code",
   "execution_count": null,
   "id": "c2b57023-fa10-4d29-b99f-f57687fdf029",
   "metadata": {},
   "outputs": [],
   "source": [
    "class Value:\n",
    "    def __init__(self, data, _children=(), _op=\"\", label=\"\"):\n",
    "        self.data = data\n",
    "        self.grad = 0.0\n",
    "        self._backward = lambda: None\n",
    "        self._prev = set(_children)\n",
    "        self._op = _op\n",
    "        self.label = label\n",
    "\n",
    "    def __repr__(self):\n",
    "        return f\"Value(data={self.data})\"\n",
    "\n",
    "    def __add__(self, other):\n",
    "        other = other if isinstance(other, Value) else Value(other)\n",
    "        out = Value(self.data + other.data, (self, other), \"+\")\n",
    "\n",
    "        def _backward():\n",
    "            self.grad += 1.0 * out.grad\n",
    "            other.grad += 1.0 * out.grad\n",
    "        out._backward = _backward\n",
    "        return out\n",
    "\n",
    "    def __radd__(self, other): \n",
    "        \"\"\"other + self\"\"\"\n",
    "        return self + other\n",
    "\n",
    "    def __neg__(self):\n",
    "        return self * -1\n",
    "        \n",
    "    def __sub__(self, other):\n",
    "        return self + (-other)\n",
    "\n",
    "    def __mul__(self, other):\n",
    "        other = other if isinstance(other, Value) else Value(other)\n",
    "        out =  Value(self.data * other.data, (self, other), \"*\")\n",
    "\n",
    "        def _backward():\n",
    "            self.grad += other.data * out.grad\n",
    "            other.grad += self.data * out.grad\n",
    "\n",
    "        out._backward = _backward\n",
    "        return out\n",
    "\n",
    "    def __rmul__(self, other): \n",
    "        \"\"\"other * self\"\"\"\n",
    "        return self * other\n",
    "\n",
    "    def __truediv__(self, other):\n",
    "        \"\"\"self / other = self * ()\"\"\"\n",
    "        return self * other.data**-1\n",
    "\n",
    "    def __pow__(self, other):\n",
    "        assert isinstance(other, (int, float)), \"only supporting int / float power for now\"\n",
    "        out = Value(self.data**other, (self,), f\"**{other}\")\n",
    "\n",
    "        def _backward():\n",
    "            self.grad += other * (self.data**(other - 1)) * out.grad\n",
    "            \n",
    "        out._backward = _backward\n",
    "        return out\n",
    "        \n",
    "    def tanh(self):        \n",
    "        x = self.data\n",
    "        t = (math.exp(2*x) - 1) / (math.exp(2*x) + 1)\n",
    "        out = Value(t,  (self, ), \"tanh\")\n",
    "\n",
    "        def _backward():\n",
    "            self.grad += (1- t**2) * out.grad\n",
    "            \n",
    "        out._backward = _backward\n",
    "        return out\n",
    "\n",
    "    def exp(self):\n",
    "        x = self.data\n",
    "        out = Value(math.exp(x), (self, ), \"exp\")\n",
    "\n",
    "        def _backward():\n",
    "            self.grad += out.data * out.grad\n",
    "\n",
    "        out._backward = _backward\n",
    "        return out\n",
    "\n",
    "    @staticmethod\n",
    "    def _topological_sort(x):\n",
    "        topo = []\n",
    "        visited = set()\n",
    "        def build_topo(v):\n",
    "            if v not in visited:\n",
    "                visited.add(v)\n",
    "                for child in v._prev:\n",
    "                    build_topo(child)\n",
    "                topo.append(v)\n",
    "    \n",
    "        build_topo(x)\n",
    "        return topo\n",
    "    \n",
    "    def backward(self):\n",
    "        topo = self._topological_sort(self)\n",
    "        self.grad = 1.0\n",
    "        for node in reversed(topo):\n",
    "            node._backward()"
   ]
  },
  {
   "cell_type": "code",
   "execution_count": null,
   "id": "7d2f4eb5-926c-4d23-b2a7-7d88d38f2faa",
   "metadata": {},
   "outputs": [],
   "source": [
    "a = Value(2.0, label=\"a\")\n",
    "b = Value(4.0, label=\"b\")\n",
    "a / b\n",
    "\n",
    "a-b"
   ]
  },
  {
   "cell_type": "markdown",
   "id": "cc7b4416-fff1-4ae8-9b04-becd4f556039",
   "metadata": {},
   "source": [
    "## Visualization"
   ]
  },
  {
   "cell_type": "code",
   "execution_count": null,
   "id": "140a9194-2df7-4bcc-ace9-a9cfb68cfcdc",
   "metadata": {},
   "outputs": [],
   "source": [
    "from graphviz import Digraph"
   ]
  },
  {
   "cell_type": "code",
   "execution_count": null,
   "id": "4ebc31ba-5021-4e0a-b431-639d9e9df8cf",
   "metadata": {},
   "outputs": [],
   "source": [
    "def trace(root):\n",
    "    # builds a set of all nodes and edges in a graph\n",
    "    nodes, edges = set(), set()\n",
    "    def build(v):\n",
    "        if v not in nodes:\n",
    "            nodes.add(v)\n",
    "            for child in v._prev:\n",
    "                edges.add((child, v))\n",
    "                build(child)\n",
    "    build(root)\n",
    "    return nodes, edges\n",
    "\n",
    "def draw_dot(root):\n",
    "    dot = Digraph(format=\"svg\", graph_attr={\"rankdir\": \"LR\"}) # LR = Left to Right\n",
    "\n",
    "    nodes, edges = trace(root)\n",
    "    for n in nodes:\n",
    "        uid = str(id(n))\n",
    "\n",
    "        # for any value in the graph, create a rectangular (\"record\") node for it\n",
    "        dot.node(name=uid, label=f\"{n.label} | data={n.data:.4f} | grad={n.grad:.4f}\", shape=\"record\")\n",
    "        if n._op:\n",
    "            # if this value is a result of some operation, create an op node for it\n",
    "            dot.node(name=uid + n._op, label=n._op)\n",
    "            # and connect this node to it\n",
    "            dot.edge(uid + n._op, uid)\n",
    "\n",
    "    for n1, n2 in edges:\n",
    "        # connect n1 to the op node of n2\n",
    "        dot.edge(str(id(n1)), str(id(n2)) + n2._op)\n",
    "\n",
    "    return dot"
   ]
  },
  {
   "cell_type": "markdown",
   "id": "d37edaf4-1897-412b-a6ea-980ff34a0677",
   "metadata": {},
   "source": [
    "Backpropagation is the recursive application of the Chain Rule back through the graph\n",
    "- $+$ operations will always \"pass\" the local derivatives through (because it's derivative is 1.0)\n",
    "- $\\times$ operations will multiple the local derivatives\n",
    "  \n",
    "$$\n",
    "\\begin{align}\n",
    "L &= d * f \\\\\n",
    "\\frac{dL}{dd} &=  f\n",
    "\\end{align}\n",
    "$$\n",
    "\n",
    "$$\n",
    "\\frac{dL}{dc} = \\frac{dL}{dd} * \\frac{dd}{dc} = f * 1.0 = f \n",
    "$$\n",
    "\n",
    "where\n",
    "$$\n",
    "\\begin{align}\n",
    "\\frac{dd}{dc} &= 1.0 \\\\\n",
    "\\frac{dd}{de} &= 1.0\n",
    "\\end{align}\n",
    "$$\n",
    "\n",
    "d = c + e"
   ]
  },
  {
   "cell_type": "code",
   "execution_count": null,
   "id": "fc493afc-b8c3-474a-a292-ef91b5ee8278",
   "metadata": {},
   "outputs": [],
   "source": [
    "plt.plot(np.arange(-5, 5, 0.2), np.tanh(np.arange(-5, 5, 0.2)))\n",
    "plt.grid()"
   ]
  },
  {
   "cell_type": "code",
   "execution_count": null,
   "id": "91c7f614-ffa5-4005-bde3-806109da90bf",
   "metadata": {},
   "outputs": [],
   "source": [
    "# inputs x1, x2\n",
    "x1 = Value(2.0, label=\"x1\")\n",
    "x2 = Value(0.0, label=\"x2\")\n",
    "\n",
    "# weights w1, w2 (synaptic strengths)\n",
    "w1 = Value(-3.0, label=\"w1\")\n",
    "w2 = Value(1.0, label=\"w2\")\n",
    "\n",
    "# bias of the neuron\n",
    "b = Value(6.8813735870195432, label=\"b\")\n",
    "\n",
    "# x1w1 + x2w2 + b\n",
    "x1w1 = x1*w1; x1w1.label = \"x1*w1\"\n",
    "x2w2 = x2*w2; x2w2.label = \"x2*w2\"\n",
    "\n",
    "x1w1x2w2 = x1w1 + x2w2; x1w1x2w2.label = \"x1w1x2w2\"\n",
    "n = x1w1x2w2 + b; n.label = \"n\"\n",
    "\n",
    "o = n.tanh(); o.label = \"o\"\n",
    "o.backward()"
   ]
  },
  {
   "cell_type": "code",
   "execution_count": null,
   "id": "dfb5291d-cfc0-47e8-985b-c6ce9b725103",
   "metadata": {},
   "outputs": [],
   "source": [
    "draw_dot(o)"
   ]
  },
  {
   "cell_type": "code",
   "execution_count": null,
   "id": "7a798199-76fe-4920-9a88-f39cc63f1322",
   "metadata": {},
   "outputs": [],
   "source": [
    "# inputs x1, x2\n",
    "x1 = Value(2.0, label=\"x1\")\n",
    "x2 = Value(0.0, label=\"x2\")\n",
    "\n",
    "# weights w1, w2 (synaptic strengths)\n",
    "w1 = Value(-3.0, label=\"w1\")\n",
    "w2 = Value(1.0, label=\"w2\")\n",
    "\n",
    "# bias of the neuron\n",
    "b = Value(6.8813735870195432, label=\"b\")\n",
    "\n",
    "# x1w1 + x2w2 + b\n",
    "x1w1 = x1*w1; x1w1.label = \"x1*w1\"\n",
    "x2w2 = x2*w2; x2w2.label = \"x2*w2\"\n",
    "\n",
    "x1w1x2w2 = x1w1 + x2w2; x1w1x2w2.label = \"x1w1x2w2\"\n",
    "n = x1w1x2w2 + b; n.label = \"n\"\n",
    "\n",
    "# ---- tanh()\n",
    "e = (2*n).exp();\n",
    "o = (e - 1) / (e + 1)\n",
    "# ----\n",
    "\n",
    "e.label=\"e\"\n",
    "o.label = \"o\"\n",
    "o.backward()\n",
    "\n",
    "draw_dot(o)"
   ]
  },
  {
   "cell_type": "markdown",
   "id": "e2036ac8-d2be-4b41-ad25-8edefda11ddb",
   "metadata": {},
   "source": [
    "### Manually Backpropagating through graph"
   ]
  },
  {
   "cell_type": "code",
   "execution_count": null,
   "id": "d47ecbc6-3c34-46c4-b12a-fed0616f9067",
   "metadata": {},
   "outputs": [],
   "source": [
    "o.grad = 1.0\n",
    "n.grad = 0.5\n",
    "\n",
    "x1w1x2w2.grad = 0.5\n",
    "b.grad = 0.5\n",
    "\n",
    "x1w1.grad = 0.5\n",
    "x2w2.grad = 0.5\n",
    "\n",
    "x1.grad = w1.data * x1w1.grad\n",
    "w1.grad = x1.data * x1w1.grad\n",
    "x2.grad = w2.data * x2w2.grad\n",
    "w2.grad = x2.data * x2w2.grad"
   ]
  },
  {
   "cell_type": "code",
   "execution_count": null,
   "id": "18f8e124-99f5-45de-8e30-4d11fa5a0e6b",
   "metadata": {},
   "outputs": [],
   "source": [
    "# o = tanh(n)\n",
    "# do/dn = 1 - o**2\n",
    "1 - o.data**2"
   ]
  },
  {
   "cell_type": "markdown",
   "id": "60f11c7e-ba20-45bf-8d03-e4d51a0d28ed",
   "metadata": {},
   "source": [
    "### Auto backpropagation"
   ]
  },
  {
   "cell_type": "code",
   "execution_count": null,
   "id": "8d59b911-c008-41ad-b6d2-e60e89a8970d",
   "metadata": {},
   "outputs": [],
   "source": [
    "def topological_sort(v):\n",
    "    topo = []\n",
    "    visited = set()\n",
    "    def build_topo(v):\n",
    "        if v not in visited:\n",
    "            visited.add(v)\n",
    "            for child in v._prev:\n",
    "                build_topo(child)\n",
    "            topo.append(v)\n",
    "\n",
    "    build_topo(v)\n",
    "    return topo\n",
    "\n",
    "topological_sort(o)"
   ]
  },
  {
   "cell_type": "code",
   "execution_count": null,
   "id": "c645c621-e4b5-4358-9f32-290bb29b4abf",
   "metadata": {},
   "outputs": [],
   "source": [
    "o.grad = 1.0\n",
    "\n",
    "topo = topological_sort(o)\n",
    "\n",
    "for node in reversed(topo):\n",
    "    node._backward()"
   ]
  },
  {
   "cell_type": "code",
   "execution_count": null,
   "id": "6e42a2c8-5b6c-485e-9aa4-65461e0a2bbd",
   "metadata": {},
   "outputs": [],
   "source": [
    "o.grad = 1.0\n",
    "o._backward()\n",
    "n._backward()\n",
    "b._backward()\n",
    "x1w1x2w2._backward()\n",
    "x1w1._backward()\n",
    "x2w2._backward()"
   ]
  },
  {
   "cell_type": "markdown",
   "id": "86d761c5-059f-413e-a744-b864d9dd03b3",
   "metadata": {},
   "source": [
    "## Pytorch Implementation"
   ]
  },
  {
   "cell_type": "code",
   "execution_count": null,
   "id": "4d77b3b1-46d0-491e-a808-216a98e2556a",
   "metadata": {},
   "outputs": [],
   "source": [
    "import random\n",
    "import torch"
   ]
  },
  {
   "cell_type": "code",
   "execution_count": null,
   "id": "a5beacd6-eb01-49bc-bef2-1934a84d2972",
   "metadata": {},
   "outputs": [],
   "source": [
    "x1 = torch.Tensor([2.0]).double() \n",
    "x2 = torch.Tensor([0.0]).double()\n",
    "w1 = torch.Tensor([-3.0]).double() \n",
    "w2 = torch.Tensor([1.0]).double()\n",
    "b  = torch.Tensor([6.8813735870195432]).double()\n",
    "\n",
    "x1.requires_grad = True\n",
    "x2.requires_grad = True\n",
    "w1.requires_grad = True\n",
    "w2.requires_grad = True\n",
    "b.requires_grad = True\n",
    "\n",
    "n = x1*w1 + x2*w2 + b\n",
    "o = torch.tanh(n)\n",
    "\n",
    "print(o.data.item())\n",
    "o.backward()\n",
    "\n",
    "print(\"----\")\n",
    "print(f\"x2 = {x2.grad.item()}\")\n",
    "print(f\"w2 = {w2.grad.item()}\")\n",
    "print(f\"x1 = {x1.grad.item()}\")\n",
    "print(f\"w1 = {w1.grad.item()}\")"
   ]
  },
  {
   "cell_type": "code",
   "execution_count": null,
   "id": "3c4ac457-db8b-4ac5-8fa4-87eb608bd3aa",
   "metadata": {},
   "outputs": [],
   "source": [
    "class Neuron:\n",
    "    def __init__(self, nin):\n",
    "        self.w = [Value(random.uniform(-1,1)) for _ in range(nin)]\n",
    "        self.b = Value(random.uniform(-1,1))\n",
    "\n",
    "    def __call__(self, x):\n",
    "        \"\"\"w * x + b\"\"\"\n",
    "        act = sum((wi*xi for wi, xi in zip(self.w, x)), self.b)\n",
    "        out = act.tanh()\n",
    "        return out\n",
    "\n",
    "    def parameters(self):\n",
    "        return self.w + [self.b]\n",
    "\n",
    "class Layer:\n",
    "    def __init__(self, nin, nout):\n",
    "        self.neurons = [Neuron(nin) for _ in range(nout)]\n",
    "\n",
    "    def __call__(self, x):\n",
    "        outs = [n(x) for n in self.neurons]\n",
    "        return outs[0] if len(outs) == 1 else outs\n",
    "\n",
    "    def parameters(self):\n",
    "        return [p for neuron in self.neurons for p in neuron.parameters()]\n",
    "\n",
    "class MLP:\n",
    "    def __init__(self, nin, nouts):\n",
    "        sz = [nin] + nouts\n",
    "        self.layers = [Layer(sz[i], sz[i+1]) for i in range(len(nouts))]\n",
    "\n",
    "    def __call__(self, x):\n",
    "        for layer in self.layers:\n",
    "            x = layer(x)\n",
    "        return x\n",
    "\n",
    "    def parameters(self):\n",
    "        return [p for layer in self.layers for p in layer.parameters()]"
   ]
  },
  {
   "cell_type": "code",
   "execution_count": null,
   "id": "e5c810f5-987d-4769-a056-ac07ef638549",
   "metadata": {},
   "outputs": [],
   "source": [
    "# Neuron\n",
    "x = [2.0, 3.0]\n",
    "n = Neuron(2)\n",
    "n(x)"
   ]
  },
  {
   "cell_type": "code",
   "execution_count": null,
   "id": "3c3def9e-6e06-4c85-92e0-47c970f52527",
   "metadata": {},
   "outputs": [],
   "source": [
    "# Layer\n",
    "x = [2.0, 3.0]\n",
    "n = Layer(2, 3)\n",
    "n(x)"
   ]
  },
  {
   "cell_type": "code",
   "execution_count": null,
   "id": "4b9cf372-1608-4b79-970a-93462f18db6e",
   "metadata": {},
   "outputs": [],
   "source": [
    "# MLP\n",
    "x = [2.0, 3.0, -1.0]\n",
    "n = MLP(3, [4, 4, 1])\n",
    "n(x)"
   ]
  },
  {
   "cell_type": "markdown",
   "id": "8a3c4aa8-bf88-4514-b1c0-4a820238c709",
   "metadata": {},
   "source": [
    "## Binary Classifier Neural Net"
   ]
  },
  {
   "cell_type": "code",
   "execution_count": null,
   "id": "1bc8f2b9-0604-4ea9-a395-6c41be3874db",
   "metadata": {},
   "outputs": [],
   "source": [
    "# MLP\n",
    "x = [2.0, 3.0, -1.0]\n",
    "n = MLP(3, [4, 4, 1])\n",
    "n(x)"
   ]
  },
  {
   "cell_type": "code",
   "execution_count": null,
   "id": "3ee20e71-d581-4649-90e5-9e8d629d4317",
   "metadata": {},
   "outputs": [],
   "source": [
    "xs = [\n",
    "    [2.0, 3.0, -1.0],\n",
    "    [3.0, -1.0, 0.5],\n",
    "    [0.5, 1.0, 1.0],\n",
    "    [1.0, 1.0, -1.0],\n",
    "]\n",
    "ys = [1.0, -1.0, -1.0, 1.0] # desired targets\n",
    "ypred = [n(x) for x in xs]"
   ]
  },
  {
   "cell_type": "code",
   "execution_count": null,
   "id": "c63c256a-3ac9-43db-a644-3496a197fa61",
   "metadata": {},
   "outputs": [],
   "source": [
    "for k in range(20):\n",
    "    # forward pass\n",
    "    ypred = [n(x) for x in xs]\n",
    "    loss = sum((yout - ygt)**2 for ygt, yout in zip(ys, ypred))\n",
    "\n",
    "    # backward pass\n",
    "    for p in n.parameters():\n",
    "        p.grad = 0.0\n",
    "    loss.backward();\n",
    "\n",
    "    # update (gradient descent)\n",
    "    for p in n.parameters():\n",
    "        p.data += -0.1 * p.grad\n",
    "\n",
    "    print(k, loss.data)"
   ]
  },
  {
   "cell_type": "code",
   "execution_count": null,
   "id": "97e0bdce-5cc7-4348-86f2-e985d40053e1",
   "metadata": {},
   "outputs": [],
   "source": [
    "ypred"
   ]
  },
  {
   "cell_type": "code",
   "execution_count": null,
   "id": "1b74709b-d663-4be5-83a0-3f3d4e447921",
   "metadata": {},
   "outputs": [],
   "source": []
  },
  {
   "cell_type": "code",
   "execution_count": null,
   "id": "44ce4b01-ca36-469e-8460-1739024f1f91",
   "metadata": {},
   "outputs": [],
   "source": []
  }
 ],
 "metadata": {
  "kernelspec": {
   "display_name": "Python 3 (ipykernel)",
   "language": "python",
   "name": "python3"
  },
  "language_info": {
   "codemirror_mode": {
    "name": "ipython",
    "version": 3
   },
   "file_extension": ".py",
   "mimetype": "text/x-python",
   "name": "python",
   "nbconvert_exporter": "python",
   "pygments_lexer": "ipython3",
   "version": "3.11.6"
  }
 },
 "nbformat": 4,
 "nbformat_minor": 5
}
