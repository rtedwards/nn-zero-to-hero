{
  "nbformat": 4,
  "nbformat_minor": 0,
  "metadata": {
    "colab": {
      "provenance": [],
      "authorship_tag": "ABX9TyMs8x5GVSTuQAD6MBP3/O+j",
      "include_colab_link": true
    },
    "kernelspec": {
      "name": "python3",
      "display_name": "Python 3"
    },
    "language_info": {
      "name": "python"
    },
    "widgets": {
      "application/vnd.jupyter.widget-state+json": {
        "53638d2ecdf34e3f978f564f74518f34": {
          "model_module": "@jupyter-widgets/controls",
          "model_name": "HBoxModel",
          "model_module_version": "1.5.0",
          "state": {
            "_dom_classes": [],
            "_model_module": "@jupyter-widgets/controls",
            "_model_module_version": "1.5.0",
            "_model_name": "HBoxModel",
            "_view_count": null,
            "_view_module": "@jupyter-widgets/controls",
            "_view_module_version": "1.5.0",
            "_view_name": "HBoxView",
            "box_style": "",
            "children": [
              "IPY_MODEL_6db74e660e2c4b448130e9eb31d589d5",
              "IPY_MODEL_2a5ed30395a9434facb157946bd30445",
              "IPY_MODEL_bcdfaaac96c24b4b88611ed391065d66"
            ],
            "layout": "IPY_MODEL_28f631429d2d4d42b9f00f86556df826"
          }
        },
        "6db74e660e2c4b448130e9eb31d589d5": {
          "model_module": "@jupyter-widgets/controls",
          "model_name": "HTMLModel",
          "model_module_version": "1.5.0",
          "state": {
            "_dom_classes": [],
            "_model_module": "@jupyter-widgets/controls",
            "_model_module_version": "1.5.0",
            "_model_name": "HTMLModel",
            "_view_count": null,
            "_view_module": "@jupyter-widgets/controls",
            "_view_module_version": "1.5.0",
            "_view_name": "HTMLView",
            "description": "",
            "description_tooltip": null,
            "layout": "IPY_MODEL_5b9e2fad18374521a05b255ed668009a",
            "placeholder": "​",
            "style": "IPY_MODEL_49424885c47546eca513b694076c5b17",
            "value": "100%"
          }
        },
        "2a5ed30395a9434facb157946bd30445": {
          "model_module": "@jupyter-widgets/controls",
          "model_name": "FloatProgressModel",
          "model_module_version": "1.5.0",
          "state": {
            "_dom_classes": [],
            "_model_module": "@jupyter-widgets/controls",
            "_model_module_version": "1.5.0",
            "_model_name": "FloatProgressModel",
            "_view_count": null,
            "_view_module": "@jupyter-widgets/controls",
            "_view_module_version": "1.5.0",
            "_view_name": "ProgressView",
            "bar_style": "success",
            "description": "",
            "description_tooltip": null,
            "layout": "IPY_MODEL_7a0eb87137694dedaae1538ddf3947ce",
            "max": 200000,
            "min": 0,
            "orientation": "horizontal",
            "style": "IPY_MODEL_680f4e2fac40465195a175a2fd0d471c",
            "value": 200000
          }
        },
        "bcdfaaac96c24b4b88611ed391065d66": {
          "model_module": "@jupyter-widgets/controls",
          "model_name": "HTMLModel",
          "model_module_version": "1.5.0",
          "state": {
            "_dom_classes": [],
            "_model_module": "@jupyter-widgets/controls",
            "_model_module_version": "1.5.0",
            "_model_name": "HTMLModel",
            "_view_count": null,
            "_view_module": "@jupyter-widgets/controls",
            "_view_module_version": "1.5.0",
            "_view_name": "HTMLView",
            "description": "",
            "description_tooltip": null,
            "layout": "IPY_MODEL_fba499d59ae34856a9191ccca0e80f13",
            "placeholder": "​",
            "style": "IPY_MODEL_08cf2ff4b09e423d814329c45c862806",
            "value": " 200000/200000 [11:42&lt;00:00, 330.34it/s]"
          }
        },
        "28f631429d2d4d42b9f00f86556df826": {
          "model_module": "@jupyter-widgets/base",
          "model_name": "LayoutModel",
          "model_module_version": "1.2.0",
          "state": {
            "_model_module": "@jupyter-widgets/base",
            "_model_module_version": "1.2.0",
            "_model_name": "LayoutModel",
            "_view_count": null,
            "_view_module": "@jupyter-widgets/base",
            "_view_module_version": "1.2.0",
            "_view_name": "LayoutView",
            "align_content": null,
            "align_items": null,
            "align_self": null,
            "border": null,
            "bottom": null,
            "display": null,
            "flex": null,
            "flex_flow": null,
            "grid_area": null,
            "grid_auto_columns": null,
            "grid_auto_flow": null,
            "grid_auto_rows": null,
            "grid_column": null,
            "grid_gap": null,
            "grid_row": null,
            "grid_template_areas": null,
            "grid_template_columns": null,
            "grid_template_rows": null,
            "height": null,
            "justify_content": null,
            "justify_items": null,
            "left": null,
            "margin": null,
            "max_height": null,
            "max_width": null,
            "min_height": null,
            "min_width": null,
            "object_fit": null,
            "object_position": null,
            "order": null,
            "overflow": null,
            "overflow_x": null,
            "overflow_y": null,
            "padding": null,
            "right": null,
            "top": null,
            "visibility": null,
            "width": null
          }
        },
        "5b9e2fad18374521a05b255ed668009a": {
          "model_module": "@jupyter-widgets/base",
          "model_name": "LayoutModel",
          "model_module_version": "1.2.0",
          "state": {
            "_model_module": "@jupyter-widgets/base",
            "_model_module_version": "1.2.0",
            "_model_name": "LayoutModel",
            "_view_count": null,
            "_view_module": "@jupyter-widgets/base",
            "_view_module_version": "1.2.0",
            "_view_name": "LayoutView",
            "align_content": null,
            "align_items": null,
            "align_self": null,
            "border": null,
            "bottom": null,
            "display": null,
            "flex": null,
            "flex_flow": null,
            "grid_area": null,
            "grid_auto_columns": null,
            "grid_auto_flow": null,
            "grid_auto_rows": null,
            "grid_column": null,
            "grid_gap": null,
            "grid_row": null,
            "grid_template_areas": null,
            "grid_template_columns": null,
            "grid_template_rows": null,
            "height": null,
            "justify_content": null,
            "justify_items": null,
            "left": null,
            "margin": null,
            "max_height": null,
            "max_width": null,
            "min_height": null,
            "min_width": null,
            "object_fit": null,
            "object_position": null,
            "order": null,
            "overflow": null,
            "overflow_x": null,
            "overflow_y": null,
            "padding": null,
            "right": null,
            "top": null,
            "visibility": null,
            "width": null
          }
        },
        "49424885c47546eca513b694076c5b17": {
          "model_module": "@jupyter-widgets/controls",
          "model_name": "DescriptionStyleModel",
          "model_module_version": "1.5.0",
          "state": {
            "_model_module": "@jupyter-widgets/controls",
            "_model_module_version": "1.5.0",
            "_model_name": "DescriptionStyleModel",
            "_view_count": null,
            "_view_module": "@jupyter-widgets/base",
            "_view_module_version": "1.2.0",
            "_view_name": "StyleView",
            "description_width": ""
          }
        },
        "7a0eb87137694dedaae1538ddf3947ce": {
          "model_module": "@jupyter-widgets/base",
          "model_name": "LayoutModel",
          "model_module_version": "1.2.0",
          "state": {
            "_model_module": "@jupyter-widgets/base",
            "_model_module_version": "1.2.0",
            "_model_name": "LayoutModel",
            "_view_count": null,
            "_view_module": "@jupyter-widgets/base",
            "_view_module_version": "1.2.0",
            "_view_name": "LayoutView",
            "align_content": null,
            "align_items": null,
            "align_self": null,
            "border": null,
            "bottom": null,
            "display": null,
            "flex": null,
            "flex_flow": null,
            "grid_area": null,
            "grid_auto_columns": null,
            "grid_auto_flow": null,
            "grid_auto_rows": null,
            "grid_column": null,
            "grid_gap": null,
            "grid_row": null,
            "grid_template_areas": null,
            "grid_template_columns": null,
            "grid_template_rows": null,
            "height": null,
            "justify_content": null,
            "justify_items": null,
            "left": null,
            "margin": null,
            "max_height": null,
            "max_width": null,
            "min_height": null,
            "min_width": null,
            "object_fit": null,
            "object_position": null,
            "order": null,
            "overflow": null,
            "overflow_x": null,
            "overflow_y": null,
            "padding": null,
            "right": null,
            "top": null,
            "visibility": null,
            "width": null
          }
        },
        "680f4e2fac40465195a175a2fd0d471c": {
          "model_module": "@jupyter-widgets/controls",
          "model_name": "ProgressStyleModel",
          "model_module_version": "1.5.0",
          "state": {
            "_model_module": "@jupyter-widgets/controls",
            "_model_module_version": "1.5.0",
            "_model_name": "ProgressStyleModel",
            "_view_count": null,
            "_view_module": "@jupyter-widgets/base",
            "_view_module_version": "1.2.0",
            "_view_name": "StyleView",
            "bar_color": null,
            "description_width": ""
          }
        },
        "fba499d59ae34856a9191ccca0e80f13": {
          "model_module": "@jupyter-widgets/base",
          "model_name": "LayoutModel",
          "model_module_version": "1.2.0",
          "state": {
            "_model_module": "@jupyter-widgets/base",
            "_model_module_version": "1.2.0",
            "_model_name": "LayoutModel",
            "_view_count": null,
            "_view_module": "@jupyter-widgets/base",
            "_view_module_version": "1.2.0",
            "_view_name": "LayoutView",
            "align_content": null,
            "align_items": null,
            "align_self": null,
            "border": null,
            "bottom": null,
            "display": null,
            "flex": null,
            "flex_flow": null,
            "grid_area": null,
            "grid_auto_columns": null,
            "grid_auto_flow": null,
            "grid_auto_rows": null,
            "grid_column": null,
            "grid_gap": null,
            "grid_row": null,
            "grid_template_areas": null,
            "grid_template_columns": null,
            "grid_template_rows": null,
            "height": null,
            "justify_content": null,
            "justify_items": null,
            "left": null,
            "margin": null,
            "max_height": null,
            "max_width": null,
            "min_height": null,
            "min_width": null,
            "object_fit": null,
            "object_position": null,
            "order": null,
            "overflow": null,
            "overflow_x": null,
            "overflow_y": null,
            "padding": null,
            "right": null,
            "top": null,
            "visibility": null,
            "width": null
          }
        },
        "08cf2ff4b09e423d814329c45c862806": {
          "model_module": "@jupyter-widgets/controls",
          "model_name": "DescriptionStyleModel",
          "model_module_version": "1.5.0",
          "state": {
            "_model_module": "@jupyter-widgets/controls",
            "_model_module_version": "1.5.0",
            "_model_name": "DescriptionStyleModel",
            "_view_count": null,
            "_view_module": "@jupyter-widgets/base",
            "_view_module_version": "1.2.0",
            "_view_name": "StyleView",
            "description_width": ""
          }
        }
      }
    }
  },
  "cells": [
    {
      "cell_type": "markdown",
      "metadata": {
        "id": "view-in-github",
        "colab_type": "text"
      },
      "source": [
        "<a href=\"https://colab.research.google.com/github/rtedwards/nn-zero-to-hero/blob/main/notebooks/4_makemore_backprop.ipynb\" target=\"_parent\"><img src=\"https://colab.research.google.com/assets/colab-badge.svg\" alt=\"Open In Colab\"/></a>"
      ]
    },
    {
      "cell_type": "markdown",
      "source": [
        "# Back Propagation\n",
        "- [Yes you should understand BackProp](https://medium.com/@karpathy/yes-you-should-understand-backprop-e2f06eab496b)\n",
        "- Need to understand back prop to be able to debug"
      ],
      "metadata": {
        "id": "Ecb717m8kDJW"
      }
    },
    {
      "cell_type": "code",
      "source": [
        "import random\n",
        "\n",
        "import torch\n",
        "import torch.nn.functional as F\n",
        "import matplotlib.pyplot as plt\n",
        "%matplotlib inline\n",
        "from tqdm.notebook import tqdm"
      ],
      "metadata": {
        "id": "8ei9y6L9kCaA"
      },
      "execution_count": 1,
      "outputs": []
    },
    {
      "cell_type": "code",
      "source": [
        "words = open(\"names.txt\", \"r\").read().splitlines()"
      ],
      "metadata": {
        "id": "vP0DeN-qlkxQ"
      },
      "execution_count": 2,
      "outputs": []
    },
    {
      "cell_type": "code",
      "source": [
        "# build the vocabulary of characters and mappings to/from integers\n",
        "chars = sorted(list(set(\"\".join(words))))\n",
        "stoi = {s:i+1 for i,s in enumerate(chars)}\n",
        "stoi[\".\"] = 0\n",
        "itos = {i:s for s, i in stoi.items()}\n",
        "vocab_size = len(itos)\n",
        "print(itos)\n",
        "print(vocab_size)"
      ],
      "metadata": {
        "colab": {
          "base_uri": "https://localhost:8080/"
        },
        "id": "ZagqPI1YllUp",
        "outputId": "17050bbc-5489-40e7-b191-4dfeae3fd8f1"
      },
      "execution_count": 18,
      "outputs": [
        {
          "output_type": "stream",
          "name": "stdout",
          "text": [
            "{1: 'a', 2: 'b', 3: 'c', 4: 'd', 5: 'e', 6: 'f', 7: 'g', 8: 'h', 9: 'i', 10: 'j', 11: 'k', 12: 'l', 13: 'm', 14: 'n', 15: 'o', 16: 'p', 17: 'q', 18: 'r', 19: 's', 20: 't', 21: 'u', 22: 'v', 23: 'w', 24: 'x', 25: 'y', 26: 'z', 0: '.'}\n",
            "27\n"
          ]
        }
      ]
    },
    {
      "cell_type": "markdown",
      "source": [
        "## I. Build Dataset"
      ],
      "metadata": {
        "id": "cGcZoRHclp4b"
      }
    },
    {
      "cell_type": "code",
      "source": [
        "def build_dataset(words, block_size = 3):\n",
        "    \"\"\"\n",
        "    - block_size - context length: how many characters fo we take to predict the next one?\n",
        "    \"\"\"\n",
        "    X, Y = [], []\n",
        "    for w in words:\n",
        "        context = [0] * block_size\n",
        "        for ch in w + \".\":\n",
        "            ix = stoi[ch]\n",
        "            X.append(context)\n",
        "            Y.append(ix)\n",
        "\n",
        "            context = context[1:] + [ix] # crop and append\n",
        "\n",
        "    X = torch.tensor(X)\n",
        "    Y = torch.tensor(Y)\n",
        "\n",
        "    print(X.shape, Y.shape)\n",
        "    return X, Y"
      ],
      "metadata": {
        "id": "_qOxeP9QllW9"
      },
      "execution_count": 19,
      "outputs": []
    },
    {
      "cell_type": "markdown",
      "source": [
        "## II. Data set Splits\n",
        "\n",
        "- Training (80%) - used to optimize the model parameters\n",
        "- Validation (10%) - used to optimize the model hyperparameters(number of neurons, size of hidden layer, size of embedding, strength of regularization)\n",
        "- Test (10%) - used to evaluate model as it generalizes to unseen data"
      ],
      "metadata": {
        "id": "OcRtqhNcl1NG"
      }
    },
    {
      "cell_type": "code",
      "source": [
        "# train / validation / test splits\n",
        "random.seed(42)\n",
        "random.shuffle(words)\n",
        "n1 = int(0.8 * len(words))\n",
        "n2 = int(0.9 * len(words))\n",
        "block_size = 3 # number of previous characters\n",
        "\n",
        "X_train, Y_train = build_dataset(words[:n1], block_size)\n",
        "X_val, Y_val = build_dataset(words[n1:n2], block_size)\n",
        "X_test, Y_test = build_dataset(words[n2:], block_size)"
      ],
      "metadata": {
        "colab": {
          "base_uri": "https://localhost:8080/"
        },
        "id": "LZnUfDbkllZb",
        "outputId": "28238b4f-2b3c-4af0-f6c7-7189767a9742"
      },
      "execution_count": 20,
      "outputs": [
        {
          "output_type": "stream",
          "name": "stdout",
          "text": [
            "torch.Size([182580, 3]) torch.Size([182580])\n",
            "torch.Size([22767, 3]) torch.Size([22767])\n",
            "torch.Size([22799, 3]) torch.Size([22799])\n"
          ]
        }
      ]
    },
    {
      "cell_type": "code",
      "source": [
        "# utility function we will use later when comparing manual gradients to PyTorch gradients\n",
        "def cmp(s, dt, t):\n",
        "    ex = torch.all(dt == t.grad).item()\n",
        "    app = torch.allclose(dt, t.grad)\n",
        "    maxdiff = (dt - t.grad).abs().max().item()\n",
        "    print(f'{s:15s} | exact: {str(ex):5s} | approximate: {str(app):5s} | maxdiff: {maxdiff}')"
      ],
      "metadata": {
        "id": "21kOk8tGllbz"
      },
      "execution_count": 21,
      "outputs": []
    },
    {
      "cell_type": "code",
      "source": [
        "n_embd = 10 # the dimensionality of the character embedding vectors\n",
        "n_hidden = 64 # the number of neurons in the hidden layer of the MLP\n",
        "\n",
        "g = torch.Generator().manual_seed(2147483647) # for reproducibility\n",
        "# embedding layer for characters\n",
        "C  = torch.randn((vocab_size, n_embd),            generator=g)\n",
        "\n",
        "# Layer 1\n",
        "W1 = torch.randn((n_embd * block_size, n_hidden), generator=g) * (5/3)/((n_embd * block_size)**0.5)\n",
        "b1 = torch.randn(n_hidden,                        generator=g) * 0.1 # using b1 just for fun, it's useless because of BN\n",
        "\n",
        "# Layer 2\n",
        "W2 = torch.randn((n_hidden, vocab_size),          generator=g) * 0.1\n",
        "b2 = torch.randn(vocab_size,                      generator=g) * 0.1\n",
        "\n",
        "# BatchNorm parameters\n",
        "bn_gain = torch.randn((1, n_hidden))*0.1 + 1.0\n",
        "bn_bias = torch.randn((1, n_hidden))*0.1\n",
        "\n",
        "# Note: I am initializating many of these parameters in non-standard ways\n",
        "# because sometimes initializating with e.g. all zeros could mask an incorrect\n",
        "# implementation of the backward pass.\n",
        "\n",
        "parameters = [C, W1, b1, W2, b2, bn_gain, bn_bias]\n",
        "print(sum(p.nelement() for p in parameters)) # number of parameters in total\n",
        "for p in parameters:\n",
        "    p.requires_grad = True\n"
      ],
      "metadata": {
        "colab": {
          "base_uri": "https://localhost:8080/"
        },
        "id": "83Ct79n3llig",
        "outputId": "8f39c6ff-0835-4c39-e041-156c7275b1e7"
      },
      "execution_count": 41,
      "outputs": [
        {
          "output_type": "stream",
          "name": "stdout",
          "text": [
            "4137\n"
          ]
        }
      ]
    },
    {
      "cell_type": "code",
      "source": [
        "batch_size = 32\n",
        "n = batch_size # a shorter variable also, for convenience\n",
        "\n",
        "# construct a minibatch\n",
        "ix = torch.randint(0, X_train.shape[0], (batch_size,), generator=g)\n",
        "Xb, Yb = X_train[ix], Y_train[ix] # batch X,Y"
      ],
      "metadata": {
        "id": "Dy00dr6blllV"
      },
      "execution_count": 42,
      "outputs": []
    },
    {
      "cell_type": "code",
      "source": [
        "# forward pass, \"chunkated\" into smaller steps that are possible to backward one at a time\n",
        "\n",
        "emb = C[Xb] # embed the characters into vectors\n",
        "embcat = emb.view(emb.shape[0], -1) # concatenate the vectors\n",
        "\n",
        "# Linear layer 1\n",
        "hprebn = embcat @ W1 + b1 # hidden layer pre-activation\n",
        "\n",
        "# BatchNorm layer\n",
        "bn_mean_i = 1/n*hprebn.sum(0, keepdim=True)\n",
        "bn_diff = hprebn - bn_mean_i\n",
        "bn_diff2 = bn_diff**2\n",
        "bn_var = 1/(n-1)*(bn_diff2).sum(0, keepdim=True) # note: Bessel's correction (dividing by n-1, not n)\n",
        "bn_var_inv = (bn_var + 1e-5)**-0.5\n",
        "bn_raw = bn_diff * bn_var_inv\n",
        "hpreact = bn_gain * bn_raw + bn_bias\n",
        "\n",
        "# Non-linearity\n",
        "h = torch.tanh(hpreact) # hidden layer\n",
        "\n",
        "# Linear layer 2\n",
        "logits = h @ W2 + b2 # output layer\n",
        "\n",
        "# cross entropy loss (same as F.cross_entropy(logits, Yb))\n",
        "logit_maxes = logits.max(1, keepdim=True).values\n",
        "norm_logits = logits - logit_maxes # subtract max for numerical stability\n",
        "counts = norm_logits.exp()\n",
        "counts_sum = counts.sum(1, keepdims=True)\n",
        "counts_sum_inv = counts_sum**-1 # if I use (1.0 / counts_sum) instead then I can't get backprop to be bit exact...\n",
        "probs = counts * counts_sum_inv\n",
        "logprobs = probs.log()\n",
        "loss = -logprobs[range(n), Yb].mean()\n",
        "\n",
        "# PyTorch backward pass\n",
        "for p in parameters:\n",
        "  p.grad = None\n",
        "for t in [logprobs, probs, counts, counts_sum, counts_sum_inv, # afaik there is no cleaner way\n",
        "          norm_logits, logit_maxes, logits, h, hpreact, bn_raw,\n",
        "         bn_var_inv, bn_var, bn_diff2, bn_diff, hprebn, bn_mean_i,\n",
        "         embcat, emb]:\n",
        "  t.retain_grad()\n",
        "loss.backward()\n",
        "loss"
      ],
      "metadata": {
        "colab": {
          "base_uri": "https://localhost:8080/"
        },
        "id": "fWuHKFD0llnt",
        "outputId": "f0bffbae-c2f9-42a9-cb7b-5339758249bf"
      },
      "execution_count": 43,
      "outputs": [
        {
          "output_type": "execute_result",
          "data": {
            "text/plain": [
              "tensor(3.5198, grad_fn=<NegBackward0>)"
            ]
          },
          "metadata": {},
          "execution_count": 43
        }
      ]
    },
    {
      "cell_type": "code",
      "source": [
        "# Exercise 1: backprop through the whole thing manually,\n",
        "# backpropagating through exactly all of the variables\n",
        "# as they are defined in the forward pass above, one by one\n",
        "\n",
        "d_logprobs = torch.zeros_like(logprobs) #1 / probs[range(n)].log() # 1 / (x ln a)\n",
        "d_logprobs[range(n), Yb] = -1.0 / n # d/dxi of -(x1 + x2 + ... + xn) / n\n",
        "d_probs = 1 / probs * d_logprobs    # (local_derivative * chained_derivatives)\n",
        "d_counts_sum_inv = (counts * d_probs).sum(1, keepdim=True) # (local_derivative * chained_derivatives) then sum across columns\n",
        "d_counts = counts_sum_inv * d_probs\n",
        "d_counts_sum = -(counts_sum)**-2 * d_counts_sum_inv\n",
        "d_counts += torch.ones_like(counts) * d_counts_sum # (add the 2 branches that rely on counts)\n",
        "d_norm_logits = norm_logits.exp() * d_counts\n",
        "d_logits = d_norm_logits.clone()\n",
        "d_logit_maxes = (-d_norm_logits).sum(1, keepdim=True)\n",
        "d_logits += F.one_hot(logits.max(1).indices, num_classes=logits.shape[1]) * d_logit_maxes\n",
        "d_h = d_logits @ W2.T\n",
        "d_W2 = h.T @ d_logits\n",
        "d_b2 = d_logits.sum(0)\n",
        "d_hpreact = (1.0 - h**2) * d_h # (local_derivative * chained_derivatives)\n",
        "d_bn_gain = (bn_raw * d_hpreact).sum(0, keepdim=True) # (local_derivative * chained_derivatives)\n",
        "d_bn_bias = d_hpreact.sum(0, keepdim=True) # (local_derivative * chained_derivatives)\n",
        "d_bn_raw = bn_gain * d_hpreact # (local_derivative * global_chained_derivative)\n",
        "d_bn_diff = bn_var_inv * d_bn_raw # (local_derivative * global_chained_derivative)\n",
        "d_bn_var_inv = (bn_diff * d_bn_raw).sum(0, keepdim=True)\n",
        "d_bn_var = (-0.5*(bn_var + 1e-5)**-1.5) * d_bn_var_inv\n",
        "d_bn_diff2 = (1.0/(n-1))*torch.ones_like(bn_diff2) * d_bn_var # (local_derivative * global_chained_derivative)\n",
        "d_bn_diff += (2.0*bn_diff) * d_bn_diff2\n",
        "d_bn_mean_i = (-d_bn_diff).sum(0)\n",
        "d_hprebn = d_bn_diff.clone()\n",
        "d_hprebn += (1.0/n) * (torch.ones_like(hprebn) * d_bn_mean_i)\n",
        "d_embcat = d_hprebn @ W1.T\n",
        "d_W1 = embcat.T @ d_hprebn\n",
        "d_b1 = d_hprebn.sum(0)\n",
        "d_emb = d_embcat.view(emb.shape) # rerepresent to original shape (undo the view)\n",
        "d_C = torch.zeros_like(C)\n",
        "for k in range(Xb.shape[0]):\n",
        "    for j in range(Xb.shape[1]):\n",
        "        ix = Xb[k,j]\n",
        "        d_C[ix] += d_emb[k,j] # need to add derivatives if reused\n",
        "\n",
        "cmp('logprobs', d_logprobs, logprobs)\n",
        "cmp('probs', d_probs, probs)\n",
        "cmp('counts_sum_inv', d_counts_sum_inv, counts_sum_inv)\n",
        "cmp('counts_sum', d_counts_sum, counts_sum)\n",
        "cmp('counts', d_counts, counts)\n",
        "cmp('norm_logits', d_norm_logits, norm_logits)\n",
        "cmp('logit_maxes', d_logit_maxes, logit_maxes)\n",
        "cmp('logits', d_logits, logits)\n",
        "cmp('h', d_h, h)\n",
        "cmp('W2', d_W2, W2)\n",
        "cmp('b2', d_b2, b2)\n",
        "cmp('hpreact', d_hpreact, hpreact)\n",
        "cmp('bngain', d_bn_gain, bn_gain)\n",
        "cmp('bnbias', d_bn_bias, bn_bias)\n",
        "cmp('bnraw', d_bn_raw, bn_raw)\n",
        "cmp('bnvar_inv', d_bn_var_inv, bn_var_inv)\n",
        "cmp('bnvar', d_bn_var, bn_var)\n",
        "cmp('bndiff2', d_bn_diff2, bn_diff2)\n",
        "cmp('bndiff', d_bn_diff, bn_diff)\n",
        "cmp('bnmeani', d_bn_mean_i, bn_mean_i)\n",
        "cmp('hprebn', d_hprebn, hprebn)\n",
        "cmp('embcat', d_embcat, embcat)\n",
        "cmp('W1', d_W1, W1)\n",
        "cmp('b1', d_b1, b1)\n",
        "cmp('emb', d_emb, emb)\n",
        "cmp('C', d_C, C)"
      ],
      "metadata": {
        "colab": {
          "base_uri": "https://localhost:8080/"
        },
        "id": "2wf-BDKDllqr",
        "outputId": "f9c8015b-43d8-460a-ee34-2c270c1727a2"
      },
      "execution_count": 44,
      "outputs": [
        {
          "output_type": "stream",
          "name": "stdout",
          "text": [
            "logprobs        | exact: True  | approximate: True  | maxdiff: 0.0\n",
            "probs           | exact: True  | approximate: True  | maxdiff: 0.0\n",
            "counts_sum_inv  | exact: True  | approximate: True  | maxdiff: 0.0\n",
            "counts_sum      | exact: True  | approximate: True  | maxdiff: 0.0\n",
            "counts          | exact: True  | approximate: True  | maxdiff: 0.0\n",
            "norm_logits     | exact: True  | approximate: True  | maxdiff: 0.0\n",
            "logit_maxes     | exact: True  | approximate: True  | maxdiff: 0.0\n",
            "logits          | exact: True  | approximate: True  | maxdiff: 0.0\n",
            "h               | exact: True  | approximate: True  | maxdiff: 0.0\n",
            "W2              | exact: True  | approximate: True  | maxdiff: 0.0\n",
            "b2              | exact: True  | approximate: True  | maxdiff: 0.0\n",
            "hpreact         | exact: False | approximate: True  | maxdiff: 4.656612873077393e-10\n",
            "bngain          | exact: False | approximate: True  | maxdiff: 2.7939677238464355e-09\n",
            "bnbias          | exact: False | approximate: True  | maxdiff: 3.725290298461914e-09\n",
            "bnraw           | exact: False | approximate: True  | maxdiff: 9.313225746154785e-10\n",
            "bnvar_inv       | exact: False | approximate: True  | maxdiff: 3.725290298461914e-09\n",
            "bnvar           | exact: False | approximate: True  | maxdiff: 4.656612873077393e-10\n",
            "bndiff2         | exact: False | approximate: True  | maxdiff: 2.1827872842550278e-11\n",
            "bndiff          | exact: False | approximate: True  | maxdiff: 4.656612873077393e-10\n",
            "bnmeani         | exact: False | approximate: True  | maxdiff: 3.725290298461914e-09\n",
            "hprebn          | exact: False | approximate: True  | maxdiff: 4.656612873077393e-10\n",
            "embcat          | exact: False | approximate: True  | maxdiff: 1.862645149230957e-09\n",
            "W1              | exact: False | approximate: True  | maxdiff: 4.249159246683121e-09\n",
            "b1              | exact: False | approximate: True  | maxdiff: 3.026798367500305e-09\n",
            "emb             | exact: False | approximate: True  | maxdiff: 1.862645149230957e-09\n",
            "C               | exact: False | approximate: True  | maxdiff: 6.51925802230835e-09\n"
          ]
        }
      ]
    },
    {
      "cell_type": "code",
      "source": [
        "# Exercise 2: backprop through cross_entropy but all in one go\n",
        "# to complete this challenge look at the mathematical expression of the loss,\n",
        "# take the derivative, simplify the expression, and just write it out\n",
        "\n",
        "# forward pass\n",
        "\n",
        "# before:\n",
        "# logit_maxes = logits.max(1, keepdim=True).values\n",
        "# norm_logits = logits - logit_maxes # subtract max for numerical stability\n",
        "# counts = norm_logits.exp()\n",
        "# counts_sum = counts.sum(1, keepdims=True)\n",
        "# counts_sum_inv = counts_sum**-1 # if I use (1.0 / counts_sum) instead then I can't get backprop to be bit exact...\n",
        "# probs = counts * counts_sum_inv\n",
        "# logprobs = probs.log()\n",
        "# loss = -logprobs[range(n), Yb].mean()\n",
        "\n",
        "# now:\n",
        "loss_fast = F.cross_entropy(logits, Yb)\n",
        "print(loss_fast.item(), 'diff:', (loss_fast - loss).item())"
      ],
      "metadata": {
        "colab": {
          "base_uri": "https://localhost:8080/"
        },
        "id": "pXL2fdXMlltC",
        "outputId": "0e98d5f2-fe57-4c2a-bea2-66def169759a"
      },
      "execution_count": 45,
      "outputs": [
        {
          "output_type": "stream",
          "name": "stdout",
          "text": [
            "3.519782304763794 diff: -2.384185791015625e-07\n"
          ]
        }
      ]
    },
    {
      "cell_type": "code",
      "source": [
        "# backward pass\n",
        "\n",
        "d_logits = F.softmax(logits, 1)\n",
        "d_logits[range(n), Yb] -= 1\n",
        "d_logits /= n\n",
        "\n",
        "cmp('logits', d_logits, logits) # I can only get approximate to be true, my maxdiff is 6e-9"
      ],
      "metadata": {
        "colab": {
          "base_uri": "https://localhost:8080/"
        },
        "id": "5aLNqmSvpFdJ",
        "outputId": "8401dc69-02a9-4cc8-f9fb-4f6a0ff093a8"
      },
      "execution_count": 46,
      "outputs": [
        {
          "output_type": "stream",
          "name": "stdout",
          "text": [
            "logits          | exact: False | approximate: True  | maxdiff: 8.149072527885437e-09\n"
          ]
        }
      ]
    },
    {
      "cell_type": "code",
      "source": [
        "plt.figure(figsize=(4, 4))\n",
        "plt.imshow(d_logits.detach(), cmap='gray')\n",
        "plt.title(\"Derivatives on 'd_logits'\")\n",
        "# pulling down on probability on incorrect characters\n",
        "# pushing up on the probability on correct characters\n",
        "# the amount of pushes / pulls are equal because d_logits[0].sum() == 0\n",
        "# amount of force is proportional to the probabilities that come out of the forward pass\n",
        "# for example, if the probabilties from forward pass are exactly correct, there will be no force on probabilties and d_logits will be all 0\n",
        "# for example, if an incorrect prediction is very confident (high probability) the pulling force will be quite strong"
      ],
      "metadata": {
        "colab": {
          "base_uri": "https://localhost:8080/",
          "height": 410
        },
        "id": "2q5Ez36v1LGF",
        "outputId": "6a903ac2-bc5b-4bfa-d736-8aa52cc8b050"
      },
      "execution_count": 47,
      "outputs": [
        {
          "output_type": "execute_result",
          "data": {
            "text/plain": [
              "Text(0.5, 1.0, \"Derivatives on 'd_logits'\")"
            ]
          },
          "metadata": {},
          "execution_count": 47
        },
        {
          "output_type": "display_data",
          "data": {
            "text/plain": [
              "<Figure size 400x400 with 1 Axes>"
            ],
            "image/png": "[encoded data removed]"
          },
          "metadata": {}
        }
      ]
    },
    {
      "cell_type": "code",
      "source": [
        "# Exercise 3: backprop through batchnorm but all in one go\n",
        "# to complete this challenge look at the mathematical expression of the output of batchnorm,\n",
        "# take the derivative w.r.t. its input, simplify the expression, and just write it out\n",
        "\n",
        "# forward pass\n",
        "\n",
        "# before:\n",
        "# bnmeani = 1/n*hprebn.sum(0, keepdim=True)\n",
        "# bndiff = hprebn - bnmeani\n",
        "# bndiff2 = bndiff**2\n",
        "# bnvar = 1/(n-1)*(bndiff2).sum(0, keepdim=True) # note: Bessel's correction (dividing by n-1, not n)\n",
        "# bnvar_inv = (bnvar + 1e-5)**-0.5\n",
        "# bnraw = bndiff * bnvar_inv\n",
        "# hpreact = bngain * bnraw + bnbias\n",
        "\n",
        "# now:\n",
        "hpreact_fast = bn_gain * (hprebn - hprebn.mean(0, keepdim=True)) / torch.sqrt(hprebn.var(0, keepdim=True, unbiased=True) + 1e-5) + bn_bias\n",
        "print('max diff:', (hpreact_fast - hpreact).abs().max())"
      ],
      "metadata": {
        "colab": {
          "base_uri": "https://localhost:8080/"
        },
        "id": "cfWXpb5o1LIi",
        "outputId": "02411609-2bbe-4246-da07-49180bdbc15b"
      },
      "execution_count": 48,
      "outputs": [
        {
          "output_type": "stream",
          "name": "stdout",
          "text": [
            "max diff: tensor(4.7684e-07, grad_fn=<MaxBackward1>)\n"
          ]
        }
      ]
    },
    {
      "cell_type": "code",
      "source": [
        "# backward pass\n",
        "\n",
        "# before we had:\n",
        "# dbnraw = bngain * dhpreact\n",
        "# dbndiff = bnvar_inv * dbnraw\n",
        "# dbnvar_inv = (bndiff * dbnraw).sum(0, keepdim=True)\n",
        "# dbnvar = (-0.5*(bnvar + 1e-5)**-1.5) * dbnvar_inv\n",
        "# dbndiff2 = (1.0/(n-1))*torch.ones_like(bndiff2) * dbnvar\n",
        "# dbndiff += (2*bndiff) * dbndiff2\n",
        "# dhprebn = dbndiff.clone()\n",
        "# dbnmeani = (-dbndiff).sum(0)\n",
        "# dhprebn += 1.0/n * (torch.ones_like(hprebn) * dbnmeani)\n",
        "\n",
        "# calculate dhprebn given dhpreact (i.e. backprop through the batchnorm)\n",
        "# (you'll also need to use some of the variables from the forward pass up above)\n",
        "\n",
        "dhprebn = bn_gain*bn_var_inv/n * (n*d_hpreact - d_hpreact.sum(0) - n/(n-1)*bn_raw*(d_hpreact*bn_raw).sum(0))\n",
        "cmp('hprebn', d_hprebn, hprebn) # I can only get approximate to be true, my maxdiff is 9e-10"
      ],
      "metadata": {
        "colab": {
          "base_uri": "https://localhost:8080/"
        },
        "id": "H4MnNewl1LK6",
        "outputId": "89dbdee6-8c36-42a5-fd58-84410882a64a"
      },
      "execution_count": 49,
      "outputs": [
        {
          "output_type": "stream",
          "name": "stdout",
          "text": [
            "hprebn          | exact: False | approximate: True  | maxdiff: 4.656612873077393e-10\n"
          ]
        }
      ]
    },
    {
      "cell_type": "code",
      "source": [
        "# Exercise 4: putting it all together!\n",
        "# Train the MLP neural net with your own backward pass\n",
        "\n",
        "# init\n",
        "n_embd = 10 # the dimensionality of the character embedding vectors\n",
        "n_hidden = 200 # the number of neurons in the hidden layer of the MLP\n",
        "\n",
        "g = torch.Generator().manual_seed(2147483647) # for reproducibility\n",
        "C = torch.randn((vocab_size, n_embd),            generator=g)\n",
        "\n",
        "# Layer 1\n",
        "W1 = torch.randn((n_embd * block_size, n_hidden), generator=g) * (5/3)/((n_embd * block_size)**0.5)\n",
        "b1 = torch.randn(n_hidden,                        generator=g) * 0.1\n",
        "\n",
        "# Layer 2\n",
        "W2 = torch.randn((n_hidden, vocab_size),          generator=g) * 0.1\n",
        "b2 = torch.randn(vocab_size,                      generator=g) * 0.1\n",
        "\n",
        "# BatchNorm parameters\n",
        "bn_gain = torch.randn((1, n_hidden))*0.1 + 1.0\n",
        "bn_bias = torch.randn((1, n_hidden))*0.1\n",
        "\n",
        "parameters = [C, W1, b1, W2, b2, bn_gain, bn_bias]\n",
        "print(sum(p.nelement() for p in parameters)) # number of parameters in total\n",
        "for p in parameters:\n",
        "    p.requires_grad = True\n",
        "\n",
        "# same optimization as last time\n",
        "max_steps = 200000\n",
        "batch_size = 32\n",
        "n = batch_size # convenience\n",
        "lossi = []\n",
        "\n",
        "# use this context manager for efficiency once your backward pass is written (TODO)\n",
        "with torch.no_grad():\n",
        "\n",
        "    # kick off optimization\n",
        "    for i in tqdm(range(max_steps)):\n",
        "\n",
        "        # minibatch construct\n",
        "        ix = torch.randint(0, X_train.shape[0], (batch_size,), generator=g)\n",
        "        Xb, Yb = X_train[ix], Y_train[ix] # batch X,Y\n",
        "\n",
        "        # forward pass\n",
        "        emb = C[Xb] # embed the characters into vectors\n",
        "        embcat = emb.view(emb.shape[0], -1) # concatenate the vectors\n",
        "        # Linear layer\n",
        "        hprebn = embcat @ W1 + b1 # hidden layer pre-activation\n",
        "        # BatchNorm layer\n",
        "        # -------------------------------------------------------------\n",
        "        bn_mean = hprebn.mean(0, keepdim=True)\n",
        "        bn_var = hprebn.var(0, keepdim=True, unbiased=True)\n",
        "        bn_var_inv = (bn_var + 1e-5)**-0.5\n",
        "        bn_raw = (hprebn - bn_mean) * bn_var_inv\n",
        "        hpreact = bn_gain * bn_raw + bn_bias\n",
        "        # -------------------------------------------------------------\n",
        "        # Non-linearity\n",
        "        h = torch.tanh(hpreact) # hidden layer\n",
        "        logits = h @ W2 + b2 # output layer\n",
        "        loss = F.cross_entropy(logits, Yb) # loss function\n",
        "\n",
        "        # backward pass\n",
        "        for p in parameters:\n",
        "            p.grad = None\n",
        "        # loss.backward() # use this for correctness comparisons, delete it later!\n",
        "\n",
        "        # manual backprop! #swole_doge_meme\n",
        "        # -----------------\n",
        "        d_logits = F.softmax(logits, 1)\n",
        "        d_logits[range(n), Yb] -= 1\n",
        "        d_logits /= n\n",
        "\n",
        "        # 2nd layer backprop\n",
        "        d_h = d_logits @ W2.T\n",
        "        d_W2 = h.T @ d_logits\n",
        "        d_b2 = d_logits.sum(0)\n",
        "\n",
        "        # tanh\n",
        "        d_hpreact = (1.0 - h**2) * d_h\n",
        "\n",
        "        # batchnorm backprop\n",
        "        d_bn_gain = (bn_raw * d_hpreact).sum(0, keepdim=True)\n",
        "        d_bn_bias = d_hpreact.sum(0, keepdim=True)\n",
        "        d_hprebn = bn_gain*bn_var_inv/n * (n*d_hpreact - d_hpreact.sum(0) - n/(n-1)*bn_raw*(d_hpreact*bn_raw).sum(0))\n",
        "\n",
        "        # 1st layer\n",
        "        d_embcat = d_hprebn @ W1.T\n",
        "        d_W1 = embcat.T @ d_hprebn\n",
        "        d_b1 = d_hprebn.sum(0)\n",
        "\n",
        "        # embedding\n",
        "        d_emb = d_embcat.view(emb.shape)\n",
        "        d_C = torch.zeros_like(C)\n",
        "        for k in range(Xb.shape[0]):\n",
        "            for j in range(Xb.shape[1]):\n",
        "                ix = Xb[k,j]\n",
        "                d_C[ix] += d_emb[k,j]\n",
        "        grads = [d_C, d_W1, d_b1, d_W2, d_b2, d_bn_gain, d_bn_bias]\n",
        "        # -----------------\n",
        "\n",
        "        # update\n",
        "        lr = 0.1 if i < 100_000 else 0.01 # step learning rate decay\n",
        "        for p, grad in zip(parameters, grads):\n",
        "            # p.data += -lr * p.grad # old way of cheems doge (using PyTorch grad from .backward())\n",
        "            p.data += -lr * grad # new way of swole doge TODO: enable\n",
        "\n",
        "        # track stats\n",
        "        if i % 10000 == 0: # print every once in a while\n",
        "            print(f'{i:7d}/{max_steps:7d}: {loss.item():.4f}')\n",
        "        lossi.append(loss.log10().item())\n",
        "\n",
        "        # if i >= 100: # TODO: delete early breaking when you're ready to train the full net\n",
        "        #     break\n"
      ],
      "metadata": {
        "colab": {
          "base_uri": "https://localhost:8080/",
          "height": 443,
          "referenced_widgets": [
            "53638d2ecdf34e3f978f564f74518f34",
            "6db74e660e2c4b448130e9eb31d589d5",
            "2a5ed30395a9434facb157946bd30445",
            "bcdfaaac96c24b4b88611ed391065d66",
            "28f631429d2d4d42b9f00f86556df826",
            "5b9e2fad18374521a05b255ed668009a",
            "49424885c47546eca513b694076c5b17",
            "7a0eb87137694dedaae1538ddf3947ce",
            "680f4e2fac40465195a175a2fd0d471c",
            "fba499d59ae34856a9191ccca0e80f13",
            "08cf2ff4b09e423d814329c45c862806"
          ]
        },
        "id": "vE7-m0mN1geu",
        "outputId": "5ebdf2c1-fba7-4dc4-a800-ea36f615f9f7"
      },
      "execution_count": 50,
      "outputs": [
        {
          "output_type": "stream",
          "name": "stdout",
          "text": [
            "12297\n"
          ]
        },
        {
          "output_type": "display_data",
          "data": {
            "text/plain": [
              "  0%|          | 0/200000 [00:00<?, ?it/s]"
            ],
            "application/vnd.jupyter.widget-view+json": {
              "version_major": 2,
              "version_minor": 0,
              "model_id": "53638d2ecdf34e3f978f564f74518f34"
            }
          },
          "metadata": {}
        },
        {
          "output_type": "stream",
          "name": "stdout",
          "text": [
            "      0/ 200000: 3.6285\n",
            "  10000/ 200000: 2.4975\n",
            "  20000/ 200000: 2.3714\n",
            "  30000/ 200000: 2.0870\n",
            "  40000/ 200000: 2.0489\n",
            "  50000/ 200000: 2.5658\n",
            "  60000/ 200000: 2.2276\n",
            "  70000/ 200000: 2.1229\n",
            "  80000/ 200000: 1.9869\n",
            "  90000/ 200000: 2.0313\n",
            " 100000/ 200000: 2.3849\n",
            " 110000/ 200000: 2.1199\n",
            " 120000/ 200000: 2.1527\n",
            " 130000/ 200000: 2.4721\n",
            " 140000/ 200000: 2.1660\n",
            " 150000/ 200000: 2.3003\n",
            " 160000/ 200000: 2.0918\n",
            " 170000/ 200000: 1.9652\n",
            " 180000/ 200000: 2.3581\n",
            " 190000/ 200000: 1.9644\n"
          ]
        }
      ]
    },
    {
      "cell_type": "code",
      "source": [
        "# calibrate the batch norm at the end of training\n",
        "\n",
        "with torch.no_grad():\n",
        "    # pass the training set through\n",
        "    emb = C[X_train]\n",
        "    embcat = emb.view(emb.shape[0], -1)\n",
        "    hpreact = embcat @ W1 + b1\n",
        "\n",
        "    # measure the mean/std over the entire training set\n",
        "    bn_mean = hpreact.mean(0, keepdim=True)\n",
        "    bn_var = hpreact.var(0, keepdim=True, unbiased=True)"
      ],
      "metadata": {
        "id": "6L4_hTLj-hEN"
      },
      "execution_count": 53,
      "outputs": []
    },
    {
      "cell_type": "code",
      "source": [
        "# evaluate train and val loss\n",
        "\n",
        "@torch.no_grad() # this decorator disables gradient tracking\n",
        "def split_loss(split):\n",
        "    x,y = {\n",
        "        'train': (X_train, Y_train),\n",
        "        'val': (X_val, Y_val),\n",
        "        'test': (X_test, Y_test),\n",
        "    }[split]\n",
        "    emb = C[x] # (N, block_size, n_embd)\n",
        "    embcat = emb.view(emb.shape[0], -1) # concat into (N, block_size * n_embd)\n",
        "    hpreact = embcat @ W1 + b1\n",
        "    hpreact = bn_gain * (hpreact - bn_mean) * (bn_var + 1e-5)**-0.5 + bn_bias\n",
        "    h = torch.tanh(hpreact) # (N, n_hidden)\n",
        "    logits = h @ W2 + b2 # (N, vocab_size)\n",
        "    loss = F.cross_entropy(logits, y)\n",
        "    print(split, loss.item())\n",
        "\n",
        "split_loss('train')\n",
        "split_loss('val')\n"
      ],
      "metadata": {
        "colab": {
          "base_uri": "https://localhost:8080/"
        },
        "id": "A33BzOyj-oU1",
        "outputId": "b8b12065-38de-40a5-f86b-330f37d7403d"
      },
      "execution_count": 54,
      "outputs": [
        {
          "output_type": "stream",
          "name": "stdout",
          "text": [
            "train 2.072080135345459\n",
            "val 2.1135950088500977\n"
          ]
        }
      ]
    },
    {
      "cell_type": "code",
      "source": [
        "# sample from the model\n",
        "g = torch.Generator().manual_seed(2147483647 + 10)\n",
        "\n",
        "for _ in range(20):\n",
        "\n",
        "    out = []\n",
        "    context = [0] * block_size # initialize with all ...\n",
        "    while True:\n",
        "        # ------------\n",
        "        # forward pass:\n",
        "        # Embedding\n",
        "        emb = C[torch.tensor([context])] # (1,block_size,d)\n",
        "        embcat = emb.view(emb.shape[0], -1) # concat into (N, block_size * n_embd)\n",
        "        hpreact = embcat @ W1 + b1\n",
        "        hpreact = bn_gain * (hpreact - bn_mean) * (bn_var + 1e-5)**-0.5 + bn_bias\n",
        "        h = torch.tanh(hpreact) # (N, n_hidden)\n",
        "        logits = h @ W2 + b2 # (N, vocab_size)\n",
        "        # ------------\n",
        "        # Sample\n",
        "        probs = F.softmax(logits, dim=1)\n",
        "        ix = torch.multinomial(probs, num_samples=1, generator=g).item()\n",
        "        context = context[1:] + [ix]\n",
        "        out.append(ix)\n",
        "        if ix == 0:\n",
        "            break\n",
        "\n",
        "    print(''.join(itos[i] for i in out))"
      ],
      "metadata": {
        "colab": {
          "base_uri": "https://localhost:8080/"
        },
        "id": "pBBT5kkK-4tk",
        "outputId": "7c26fd79-dcc8-4dc0-c226-ad6aaa0359d3"
      },
      "execution_count": 55,
      "outputs": [
        {
          "output_type": "stream",
          "name": "stdout",
          "text": [
            "mritaymyah.\n",
            "see.\n",
            "med.\n",
            "ryla.\n",
            "reish.\n",
            "jendraeg.\n",
            "adee.\n",
            "daeliah.\n",
            "milopaleigh.\n",
            "van.\n",
            "narielleigh.\n",
            "kalin.\n",
            "shubergihi.\n",
            "jest.\n",
            "jair.\n",
            "jennex.\n",
            "terif.\n",
            "ubelled.\n",
            "ryyah.\n",
            "faeh.\n"
          ]
        }
      ]
    },
    {
      "cell_type": "markdown",
      "source": [
        "# Notes\n"
      ],
      "metadata": {
        "id": "4RlYs42QfT-u"
      }
    },
    {
      "cell_type": "markdown",
      "source": [
        "- any time there is a sum, $\\sum$, in the forward pass, that turns into a broadcasting in the backward pass along the same dimension.\n",
        "- any time there is a broadcasting in the forward pass, that turns into a sum, $\\sum$, in the backward pass along the same dimension.\n",
        "- units must match - shape of `h` and `dh` must match\n",
        "- backwards pass of a matrix multiplication is a matrix multiplication of the derivative and the _other_ term in the multiplication\n",
        "\n",
        "$$\n",
        "\\begin{align}\n",
        "d &= h @ W_2 + b_2 \\\\\n",
        "\\frac{dL}{dh} &= \\frac{dL}{dd} @ W_2^\\top \\\\\n",
        "\\frac{dL}{dW_2} &= h^\\top @ \\frac{dL}{dd} \\\\\n",
        "\\frac{dL}{db_2} &= \\frac{dL}{dd} \\cdot sum(0)\n",
        "\\end{align}\n",
        "$$"
      ],
      "metadata": {
        "id": "Mj6ui29diGtE"
      }
    }
  ]
}