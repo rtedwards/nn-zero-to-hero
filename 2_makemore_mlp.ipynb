{
  "nbformat": 4,
  "nbformat_minor": 0,
  "metadata": {
    "colab": {
      "provenance": [],
      "authorship_tag": "ABX9TyPL1m5WJtS8f3YLUkMHVq0r",
      "include_colab_link": true
    },
    "kernelspec": {
      "name": "python3",
      "display_name": "Python 3"
    },
    "language_info": {
      "name": "python"
    },
    "widgets": {
      "application/vnd.jupyter.widget-state+json": {
        "55993554eeaa40858d0b4219e5902044": {
          "model_module": "@jupyter-widgets/controls",
          "model_name": "HBoxModel",
          "model_module_version": "1.5.0",
          "state": {
            "_dom_classes": [],
            "_model_module": "@jupyter-widgets/controls",
            "_model_module_version": "1.5.0",
            "_model_name": "HBoxModel",
            "_view_count": null,
            "_view_module": "@jupyter-widgets/controls",
            "_view_module_version": "1.5.0",
            "_view_name": "HBoxView",
            "box_style": "",
            "children": [
              "IPY_MODEL_7d73a47ec64d41c2bde2d2acbe2a3410",
              "IPY_MODEL_0589e38884ec45f988275004476d8b23",
              "IPY_MODEL_84b9c34aa3bb431f846189be0702b630"
            ],
            "layout": "IPY_MODEL_df08681cd94c4db6ae9941f0c7697fe3"
          }
        },
        "7d73a47ec64d41c2bde2d2acbe2a3410": {
          "model_module": "@jupyter-widgets/controls",
          "model_name": "HTMLModel",
          "model_module_version": "1.5.0",
          "state": {
            "_dom_classes": [],
            "_model_module": "@jupyter-widgets/controls",
            "_model_module_version": "1.5.0",
            "_model_name": "HTMLModel",
            "_view_count": null,
            "_view_module": "@jupyter-widgets/controls",
            "_view_module_version": "1.5.0",
            "_view_name": "HTMLView",
            "description": "",
            "description_tooltip": null,
            "layout": "IPY_MODEL_e4ad74a83e0b43658ca20fdafe5e4d64",
            "placeholder": "​",
            "style": "IPY_MODEL_85329254d0564f9ba07e076e8ddaa062",
            "value": "100%"
          }
        },
        "0589e38884ec45f988275004476d8b23": {
          "model_module": "@jupyter-widgets/controls",
          "model_name": "FloatProgressModel",
          "model_module_version": "1.5.0",
          "state": {
            "_dom_classes": [],
            "_model_module": "@jupyter-widgets/controls",
            "_model_module_version": "1.5.0",
            "_model_name": "FloatProgressModel",
            "_view_count": null,
            "_view_module": "@jupyter-widgets/controls",
            "_view_module_version": "1.5.0",
            "_view_name": "ProgressView",
            "bar_style": "success",
            "description": "",
            "description_tooltip": null,
            "layout": "IPY_MODEL_fa6f9d3cb92942808aeb039b6c0e1a09",
            "max": 200000,
            "min": 0,
            "orientation": "horizontal",
            "style": "IPY_MODEL_a0a5c41a708d4e7682331738f3e1ccc3",
            "value": 200000
          }
        },
        "84b9c34aa3bb431f846189be0702b630": {
          "model_module": "@jupyter-widgets/controls",
          "model_name": "HTMLModel",
          "model_module_version": "1.5.0",
          "state": {
            "_dom_classes": [],
            "_model_module": "@jupyter-widgets/controls",
            "_model_module_version": "1.5.0",
            "_model_name": "HTMLModel",
            "_view_count": null,
            "_view_module": "@jupyter-widgets/controls",
            "_view_module_version": "1.5.0",
            "_view_name": "HTMLView",
            "description": "",
            "description_tooltip": null,
            "layout": "IPY_MODEL_88d376926aca4e3e9d6b977836dc8e1f",
            "placeholder": "​",
            "style": "IPY_MODEL_c68715d854374b469de87d5ffad83d49",
            "value": " 200000/200000 [02:47&lt;00:00, 1323.62it/s]"
          }
        },
        "df08681cd94c4db6ae9941f0c7697fe3": {
          "model_module": "@jupyter-widgets/base",
          "model_name": "LayoutModel",
          "model_module_version": "1.2.0",
          "state": {
            "_model_module": "@jupyter-widgets/base",
            "_model_module_version": "1.2.0",
            "_model_name": "LayoutModel",
            "_view_count": null,
            "_view_module": "@jupyter-widgets/base",
            "_view_module_version": "1.2.0",
            "_view_name": "LayoutView",
            "align_content": null,
            "align_items": null,
            "align_self": null,
            "border": null,
            "bottom": null,
            "display": null,
            "flex": null,
            "flex_flow": null,
            "grid_area": null,
            "grid_auto_columns": null,
            "grid_auto_flow": null,
            "grid_auto_rows": null,
            "grid_column": null,
            "grid_gap": null,
            "grid_row": null,
            "grid_template_areas": null,
            "grid_template_columns": null,
            "grid_template_rows": null,
            "height": null,
            "justify_content": null,
            "justify_items": null,
            "left": null,
            "margin": null,
            "max_height": null,
            "max_width": null,
            "min_height": null,
            "min_width": null,
            "object_fit": null,
            "object_position": null,
            "order": null,
            "overflow": null,
            "overflow_x": null,
            "overflow_y": null,
            "padding": null,
            "right": null,
            "top": null,
            "visibility": null,
            "width": null
          }
        },
        "e4ad74a83e0b43658ca20fdafe5e4d64": {
          "model_module": "@jupyter-widgets/base",
          "model_name": "LayoutModel",
          "model_module_version": "1.2.0",
          "state": {
            "_model_module": "@jupyter-widgets/base",
            "_model_module_version": "1.2.0",
            "_model_name": "LayoutModel",
            "_view_count": null,
            "_view_module": "@jupyter-widgets/base",
            "_view_module_version": "1.2.0",
            "_view_name": "LayoutView",
            "align_content": null,
            "align_items": null,
            "align_self": null,
            "border": null,
            "bottom": null,
            "display": null,
            "flex": null,
            "flex_flow": null,
            "grid_area": null,
            "grid_auto_columns": null,
            "grid_auto_flow": null,
            "grid_auto_rows": null,
            "grid_column": null,
            "grid_gap": null,
            "grid_row": null,
            "grid_template_areas": null,
            "grid_template_columns": null,
            "grid_template_rows": null,
            "height": null,
            "justify_content": null,
            "justify_items": null,
            "left": null,
            "margin": null,
            "max_height": null,
            "max_width": null,
            "min_height": null,
            "min_width": null,
            "object_fit": null,
            "object_position": null,
            "order": null,
            "overflow": null,
            "overflow_x": null,
            "overflow_y": null,
            "padding": null,
            "right": null,
            "top": null,
            "visibility": null,
            "width": null
          }
        },
        "85329254d0564f9ba07e076e8ddaa062": {
          "model_module": "@jupyter-widgets/controls",
          "model_name": "DescriptionStyleModel",
          "model_module_version": "1.5.0",
          "state": {
            "_model_module": "@jupyter-widgets/controls",
            "_model_module_version": "1.5.0",
            "_model_name": "DescriptionStyleModel",
            "_view_count": null,
            "_view_module": "@jupyter-widgets/base",
            "_view_module_version": "1.2.0",
            "_view_name": "StyleView",
            "description_width": ""
          }
        },
        "fa6f9d3cb92942808aeb039b6c0e1a09": {
          "model_module": "@jupyter-widgets/base",
          "model_name": "LayoutModel",
          "model_module_version": "1.2.0",
          "state": {
            "_model_module": "@jupyter-widgets/base",
            "_model_module_version": "1.2.0",
            "_model_name": "LayoutModel",
            "_view_count": null,
            "_view_module": "@jupyter-widgets/base",
            "_view_module_version": "1.2.0",
            "_view_name": "LayoutView",
            "align_content": null,
            "align_items": null,
            "align_self": null,
            "border": null,
            "bottom": null,
            "display": null,
            "flex": null,
            "flex_flow": null,
            "grid_area": null,
            "grid_auto_columns": null,
            "grid_auto_flow": null,
            "grid_auto_rows": null,
            "grid_column": null,
            "grid_gap": null,
            "grid_row": null,
            "grid_template_areas": null,
            "grid_template_columns": null,
            "grid_template_rows": null,
            "height": null,
            "justify_content": null,
            "justify_items": null,
            "left": null,
            "margin": null,
            "max_height": null,
            "max_width": null,
            "min_height": null,
            "min_width": null,
            "object_fit": null,
            "object_position": null,
            "order": null,
            "overflow": null,
            "overflow_x": null,
            "overflow_y": null,
            "padding": null,
            "right": null,
            "top": null,
            "visibility": null,
            "width": null
          }
        },
        "a0a5c41a708d4e7682331738f3e1ccc3": {
          "model_module": "@jupyter-widgets/controls",
          "model_name": "ProgressStyleModel",
          "model_module_version": "1.5.0",
          "state": {
            "_model_module": "@jupyter-widgets/controls",
            "_model_module_version": "1.5.0",
            "_model_name": "ProgressStyleModel",
            "_view_count": null,
            "_view_module": "@jupyter-widgets/base",
            "_view_module_version": "1.2.0",
            "_view_name": "StyleView",
            "bar_color": null,
            "description_width": ""
          }
        },
        "88d376926aca4e3e9d6b977836dc8e1f": {
          "model_module": "@jupyter-widgets/base",
          "model_name": "LayoutModel",
          "model_module_version": "1.2.0",
          "state": {
            "_model_module": "@jupyter-widgets/base",
            "_model_module_version": "1.2.0",
            "_model_name": "LayoutModel",
            "_view_count": null,
            "_view_module": "@jupyter-widgets/base",
            "_view_module_version": "1.2.0",
            "_view_name": "LayoutView",
            "align_content": null,
            "align_items": null,
            "align_self": null,
            "border": null,
            "bottom": null,
            "display": null,
            "flex": null,
            "flex_flow": null,
            "grid_area": null,
            "grid_auto_columns": null,
            "grid_auto_flow": null,
            "grid_auto_rows": null,
            "grid_column": null,
            "grid_gap": null,
            "grid_row": null,
            "grid_template_areas": null,
            "grid_template_columns": null,
            "grid_template_rows": null,
            "height": null,
            "justify_content": null,
            "justify_items": null,
            "left": null,
            "margin": null,
            "max_height": null,
            "max_width": null,
            "min_height": null,
            "min_width": null,
            "object_fit": null,
            "object_position": null,
            "order": null,
            "overflow": null,
            "overflow_x": null,
            "overflow_y": null,
            "padding": null,
            "right": null,
            "top": null,
            "visibility": null,
            "width": null
          }
        },
        "c68715d854374b469de87d5ffad83d49": {
          "model_module": "@jupyter-widgets/controls",
          "model_name": "DescriptionStyleModel",
          "model_module_version": "1.5.0",
          "state": {
            "_model_module": "@jupyter-widgets/controls",
            "_model_module_version": "1.5.0",
            "_model_name": "DescriptionStyleModel",
            "_view_count": null,
            "_view_module": "@jupyter-widgets/base",
            "_view_module_version": "1.2.0",
            "_view_name": "StyleView",
            "description_width": ""
          }
        }
      }
    }
  },
  "cells": [
    {
      "cell_type": "markdown",
      "metadata": {
        "id": "view-in-github",
        "colab_type": "text"
      },
      "source": [
        "<a href=\"https://colab.research.google.com/github/rtedwards/nn-zero-to-hero/blob/main/2_makemore_mlp.ipynb\" target=\"_parent\"><img src=\"https://colab.research.google.com/assets/colab-badge.svg\" alt=\"Open In Colab\"/></a>"
      ]
    },
    {
      "cell_type": "markdown",
      "source": [
        "# MultiLayer Perceptron (MLP) character-level language model using Bag of Words\n",
        "\n",
        "Based on [A Neural Probabilistic Language Model (Bengio et al)](https://www.jmlr.org/papers/volume3/bengio03a/bengio03a.pdf)\n",
        "- they use a word-level model\n",
        "- we will use a character-level model\n",
        "\n"
      ],
      "metadata": {
        "id": "ZbuRaT6SKQgW"
      }
    },
    {
      "cell_type": "code",
      "execution_count": 164,
      "metadata": {
        "id": "Pixmd9784PPi"
      },
      "outputs": [],
      "source": [
        "import random\n",
        "import torch\n",
        "import torch.nn.functional as F\n",
        "import matplotlib.pyplot as plt\n",
        "%matplotlib inline\n",
        "from tqdm.notebook import tqdm"
      ]
    },
    {
      "cell_type": "code",
      "source": [
        "words = open(\"names.txt\", \"r\").read().splitlines()"
      ],
      "metadata": {
        "id": "2uVSMpdF4e5c"
      },
      "execution_count": 2,
      "outputs": []
    },
    {
      "cell_type": "markdown",
      "source": [
        "## O. Build vocabulary mappings"
      ],
      "metadata": {
        "id": "5H3hY6geM8Qq"
      }
    },
    {
      "cell_type": "code",
      "source": [
        "# build the vocabulary of characters and mappings to/from integers\n",
        "chars = sorted(list(set(\"\".join(words))))\n",
        "stoi = {s:i+1 for i,s in enumerate(chars)}\n",
        "stoi[\".\"] = 0\n",
        "itos = {i:s for s, i in stoi.items()}\n",
        "print(itos)"
      ],
      "metadata": {
        "colab": {
          "base_uri": "https://localhost:8080/"
        },
        "id": "eEMRucJz4fYm",
        "outputId": "3306536a-24ae-489a-ef04-3142b183acb7"
      },
      "execution_count": 4,
      "outputs": [
        {
          "output_type": "stream",
          "name": "stdout",
          "text": [
            "{1: 'a', 2: 'b', 3: 'c', 4: 'd', 5: 'e', 6: 'f', 7: 'g', 8: 'h', 9: 'i', 10: 'j', 11: 'k', 12: 'l', 13: 'm', 14: 'n', 15: 'o', 16: 'p', 17: 'q', 18: 'r', 19: 's', 20: 't', 21: 'u', 22: 'v', 23: 'w', 24: 'x', 25: 'y', 26: 'z', 0: '.'}\n"
          ]
        }
      ]
    },
    {
      "cell_type": "markdown",
      "source": [
        "### I. Build the dataset"
      ],
      "metadata": {
        "id": "ORBu_ZL8U2Ao"
      }
    },
    {
      "cell_type": "code",
      "source": [
        "def build_dataset(words, bloack_size = 3):\n",
        "    \"\"\"\n",
        "    - block_size - context length: how many characters fo we take to predict the next one?\n",
        "    \"\"\"\n",
        "    X, Y = [], []\n",
        "    for w in words:\n",
        "        context = [0] * block_size\n",
        "        for ch in w + \".\":\n",
        "            ix = stoi[ch]\n",
        "            X.append(context)\n",
        "            Y.append(ix)\n",
        "\n",
        "            context = context[1:] + [ix] # crop and append\n",
        "\n",
        "    X = torch.tensor(X)\n",
        "    Y = torch.tensor(Y)\n",
        "\n",
        "    print(X.shape, Y.shape)\n",
        "    return X, Y"
      ],
      "metadata": {
        "id": "hP7JFsVdU0to"
      },
      "execution_count": 267,
      "outputs": []
    },
    {
      "cell_type": "markdown",
      "source": [
        "## II. Data set Splits\n",
        "\n",
        "- Training (80%) - used to optimize the model parameters\n",
        "- Validation (10%) - used to optimize the model hyperparameters(number of neurons, size of hidden layer, size of embedding, strength of regularization)\n",
        "- Test (10%) - used to evaluate model as it generalizes to unseen data"
      ],
      "metadata": {
        "id": "HI5Vzm3udV1U"
      }
    },
    {
      "cell_type": "code",
      "source": [
        "# train / validation / test splits\n",
        "random.seed(42)\n",
        "random.shuffle(words)\n",
        "n1 = int(0.8 * len(words))\n",
        "n2 = int(0.9 * len(words))\n",
        "block_size = 5\n",
        "\n",
        "X_train, Y_train = build_dataset(words[:n1])\n",
        "X_val, Y_val = build_dataset(words[n1:n2])\n",
        "X_test, Y_test = build_dataset(words[n2:])"
      ],
      "metadata": {
        "colab": {
          "base_uri": "https://localhost:8080/"
        },
        "id": "Io9gSSnQUkEP",
        "outputId": "ba0bb315-d22b-4dcb-8a06-74be4dfceec8"
      },
      "execution_count": 268,
      "outputs": [
        {
          "output_type": "stream",
          "name": "stdout",
          "text": [
            "torch.Size([182437, 5]) torch.Size([182437])\n",
            "torch.Size([22781, 5]) torch.Size([22781])\n",
            "torch.Size([22928, 5]) torch.Size([22928])\n"
          ]
        }
      ]
    },
    {
      "cell_type": "markdown",
      "source": [
        "## III. Initialize Network"
      ],
      "metadata": {
        "id": "gnFkDq_FU8bN"
      }
    },
    {
      "cell_type": "code",
      "source": [
        "n_dims = 10 # number of dimensions in embeddings\n",
        "n_inputs = block_size * n_dims\n",
        "g = torch.Generator().manual_seed(2147483647) # for reproducability\n",
        "C = torch.randn((27, n_dims), generator=g)      # 3 embeddings\n",
        "W1 = torch.randn((n_inputs, 200), generator=g)    # 3 x 10 inputs\n",
        "b1 = torch.randn(200, generator=g)\n",
        "W2 = torch.randn((200, 27), generator=g)\n",
        "b2 = torch.randn(27, generator=g)\n",
        "parameters = [C, W1, b1, W2, b2]\n",
        "\n",
        "for p in parameters:\n",
        "    p.requires_grad = True"
      ],
      "metadata": {
        "id": "miC9SvaEU5F6"
      },
      "execution_count": 269,
      "outputs": []
    },
    {
      "cell_type": "code",
      "source": [
        "sum(p.nelement() for p in parameters) # number of parameters in total"
      ],
      "metadata": {
        "colab": {
          "base_uri": "https://localhost:8080/"
        },
        "id": "_jrdayfjVW3Z",
        "outputId": "a1f17896-b7bf-4b55-c41a-942ea8e11380"
      },
      "execution_count": 270,
      "outputs": [
        {
          "output_type": "execute_result",
          "data": {
            "text/plain": [
              "15897"
            ]
          },
          "metadata": {},
          "execution_count": 270
        }
      ]
    },
    {
      "cell_type": "markdown",
      "source": [
        "## IV. Training"
      ],
      "metadata": {
        "id": "ydebZPch32yD"
      }
    },
    {
      "cell_type": "code",
      "source": [
        "n_iters = 200_000\n",
        "\n",
        "# exponentially stepped Learning Rates\n",
        "lre = torch.linspace(-3, 0, n_iters)\n",
        "lrs = 10**lre\n",
        "\n",
        "lr_i = []\n",
        "loss_i = []\n",
        "step_i = []"
      ],
      "metadata": {
        "id": "rTIAUpvgjQJu"
      },
      "execution_count": 271,
      "outputs": []
    },
    {
      "cell_type": "code",
      "source": [
        "for i in tqdm(range(n_iters)):\n",
        "    # minibatch construct of 32 examples\n",
        "    ix = torch.randint(0, X_train.shape[0], (32,))\n",
        "\n",
        "    # Forward Pass\n",
        "    emb = C[X_train[ix]] # (32, 3, 2)\n",
        "    h = torch.tanh(emb.view(-1, n_inputs) @ W1 + b1) # (32, 100)\n",
        "    logits = h @ W2 + b2                      # (32, 27)\n",
        "    # counts = logits.exp()\n",
        "    # prob = counts / counts.sum(1, keepdims=True)\n",
        "    # loss = -prob[torch.arange(32), Y].log().mean()\n",
        "    loss = F.cross_entropy(logits, Y_train[ix]) # equal to above 3 lines\n",
        "\n",
        "    # Backward Pass\n",
        "    for p in parameters:\n",
        "        p.grad = None\n",
        "    loss.backward()\n",
        "\n",
        "    # Update\n",
        "    # lr = lrs[i]\n",
        "    lr = 0.1 if i < 100_000 else 0.01\n",
        "    for p in parameters:\n",
        "        p.data += -lr * p.grad\n",
        "\n",
        "    # Track Stats\n",
        "    step_i.append(i)\n",
        "    lr_i.append(lre[i])\n",
        "    loss_i.append(loss.log10().item())\n",
        "\n",
        "print(f\"minibatch loss: {loss.item()}\")"
      ],
      "metadata": {
        "colab": {
          "base_uri": "https://localhost:8080/",
          "height": 68,
          "referenced_widgets": [
            "55993554eeaa40858d0b4219e5902044",
            "7d73a47ec64d41c2bde2d2acbe2a3410",
            "0589e38884ec45f988275004476d8b23",
            "84b9c34aa3bb431f846189be0702b630",
            "df08681cd94c4db6ae9941f0c7697fe3",
            "e4ad74a83e0b43658ca20fdafe5e4d64",
            "85329254d0564f9ba07e076e8ddaa062",
            "fa6f9d3cb92942808aeb039b6c0e1a09",
            "a0a5c41a708d4e7682331738f3e1ccc3",
            "88d376926aca4e3e9d6b977836dc8e1f",
            "c68715d854374b469de87d5ffad83d49"
          ]
        },
        "id": "N0sNRbU0VbY8",
        "outputId": "fb6592fe-6d5e-463e-9a0b-da455eee248a"
      },
      "execution_count": 272,
      "outputs": [
        {
          "output_type": "display_data",
          "data": {
            "text/plain": [
              "  0%|          | 0/200000 [00:00<?, ?it/s]"
            ],
            "application/vnd.jupyter.widget-view+json": {
              "version_major": 2,
              "version_minor": 0,
              "model_id": "55993554eeaa40858d0b4219e5902044"
            }
          },
          "metadata": {}
        },
        {
          "output_type": "stream",
          "name": "stdout",
          "text": [
            "minibatch loss: 1.9106916189193726\n"
          ]
        }
      ]
    },
    {
      "cell_type": "code",
      "source": [
        "plt.plot(step_i, loss_i)\n",
        "# good learning rates in the minimum (-1.0 to -0.5)"
      ],
      "metadata": {
        "colab": {
          "base_uri": "https://localhost:8080/",
          "height": 449
        },
        "id": "olyA5iE9bQ9T",
        "outputId": "d5f6b1f5-3a4a-4495-abbe-a462dba28e7e"
      },
      "execution_count": 273,
      "outputs": [
        {
          "output_type": "execute_result",
          "data": {
            "text/plain": [
              "[<matplotlib.lines.Line2D at 0x793f317e40a0>]"
            ]
          },
          "metadata": {},
          "execution_count": 273
        },
        {
          "output_type": "display_data",
          "data": {
            "text/plain": [
              "<Figure size 640x480 with 1 Axes>"
            ],
            "image/png": "[encoded data removed]"
          },
          "metadata": {}
        }
      ]
    },
    {
      "cell_type": "code",
      "source": [
        "# Training Loss\n",
        "emb = C[X_train] # (32, 3, 2)\n",
        "h = torch.tanh(emb.view(-1, n_inputs) @ W1 + b1) # (32, 100)\n",
        "logits = h @ W2 + b2\n",
        "loss = F.cross_entropy(logits, Y_train) # equal to above 3 lines\n",
        "print(f\"Training loss: {loss.item()}\")"
      ],
      "metadata": {
        "colab": {
          "base_uri": "https://localhost:8080/"
        },
        "id": "0P7dDB9jfiuy",
        "outputId": "4e8ea9c5-f97a-49bc-ed7a-cbdc735b42d4"
      },
      "execution_count": 274,
      "outputs": [
        {
          "output_type": "stream",
          "name": "stdout",
          "text": [
            "Training loss: 2.2027506828308105\n"
          ]
        }
      ]
    },
    {
      "cell_type": "code",
      "source": [
        "# Validation Loss\n",
        "emb = C[X_val] # (32, 3, 2)\n",
        "h = torch.tanh(emb.view(-1, n_inputs) @ W1 + b1) # (32, 100)\n",
        "logits = h @ W2 + b2\n",
        "loss = F.cross_entropy(logits, Y_val) # equal to above 3 lines\n",
        "print(f\"Validation loss: {loss.item()}\")"
      ],
      "metadata": {
        "colab": {
          "base_uri": "https://localhost:8080/"
        },
        "id": "B2tC10z1VzhR",
        "outputId": "4f18587a-1121-4d8d-8507-318ff11546b7"
      },
      "execution_count": 275,
      "outputs": [
        {
          "output_type": "stream",
          "name": "stdout",
          "text": [
            "Validation loss: 2.230646848678589\n"
          ]
        }
      ]
    },
    {
      "cell_type": "markdown",
      "source": [
        "### Visualize Embeddings (2D)\n",
        "This only makes sense if the embedding dimension is 2"
      ],
      "metadata": {
        "id": "35wDVaURha0o"
      }
    },
    {
      "cell_type": "code",
      "source": [
        "plt.figure(figsize=(4,4))\n",
        "plt.scatter(C[:,0].data, C[:,1].data, s=200)\n",
        "for i in range(C.shape[0]):\n",
        "    plt.text(C[i,0].item(), C[i,1].item(), itos[i], ha=\"center\", va=\"center\", color=\"white\")\n",
        "\n",
        "plt.grid(\"minor\")"
      ],
      "metadata": {
        "colab": {
          "base_uri": "https://localhost:8080/",
          "height": 368
        },
        "id": "hJHJbcPfhcaR",
        "outputId": "2bab6fe3-46ad-488c-c092-12cbe75142d4"
      },
      "execution_count": 265,
      "outputs": [
        {
          "output_type": "display_data",
          "data": {
            "text/plain": [
              "<Figure size 400x400 with 1 Axes>"
            ],
            "image/png": "[encoded data removed]"
          },
          "metadata": {}
        }
      ]
    },
    {
      "cell_type": "code",
      "source": [
        "plt.figure(figsize=(4,4))\n",
        "plt.scatter(C[:,0].data, C[:,1].data, s=200)\n",
        "for i in range(C.shape[0]):\n",
        "    plt.text(C[i,0].item(), C[i,1].item(), itos[i], ha=\"center\", va=\"center\", color=\"white\")\n",
        "\n",
        "plt.grid(\"minor\")"
      ],
      "metadata": {
        "colab": {
          "base_uri": "https://localhost:8080/",
          "height": 368
        },
        "id": "vZsv7olVhzzd",
        "outputId": "27c649da-54c0-407e-d94e-1a2402720bc0"
      },
      "execution_count": 252,
      "outputs": [
        {
          "output_type": "display_data",
          "data": {
            "text/plain": [
              "<Figure size 400x400 with 1 Axes>"
            ],
            "image/png": "[encoded data removed]"
          },
          "metadata": {}
        }
      ]
    },
    {
      "cell_type": "markdown",
      "source": [
        "## Inference"
      ],
      "metadata": {
        "id": "FwAaiaL-noLX"
      }
    },
    {
      "cell_type": "code",
      "source": [
        "g = torch.Generator().manual_seed(2147483647)\n",
        "\n",
        "for _ in range(20):\n",
        "    out = []\n",
        "    context = [0] * block_size\n",
        "    while True:\n",
        "        emb = C[torch.tensor([context])] # (1, bloack_size)\n",
        "        h = torch.tanh(emb.view(1, -1) @ W1 + b1)\n",
        "        logits = h @ W2 + b2\n",
        "        probs = F.softmax(logits, dim=1)\n",
        "        ix = torch.multinomial(probs, num_samples=1, generator=g).item()\n",
        "        context = context[1:] + [ix]\n",
        "        out.append(ix)\n",
        "\n",
        "        if ix == 0:\n",
        "            break\n",
        "\n",
        "    print(\"\".join(itos[i] for i in out))"
      ],
      "metadata": {
        "colab": {
          "base_uri": "https://localhost:8080/"
        },
        "id": "LmKdES7uivVn",
        "outputId": "881c8e58-ff3b-4aa7-e4ff-6830a67edaaf"
      },
      "execution_count": 276,
      "outputs": [
        {
          "output_type": "stream",
          "name": "stdout",
          "text": [
            "junide.\n",
            "janalia.\n",
            "prelay.\n",
            "adina.\n",
            "jiirleigh.\n",
            "amaret.\n",
            "kalania.\n",
            "zamileeha.\n",
            "kabya.\n",
            "newie.\n",
            "lessi.\n",
            "jean.\n",
            "arrellarium.\n",
            "kafon.\n",
            "majan.\n",
            "nasliah.\n",
            "jani.\n",
            "coreay.\n",
            "ebon.\n",
            "jaevani.\n"
          ]
        }
      ]
    },
    {
      "cell_type": "code",
      "source": [],
      "metadata": {
        "id": "-tUgq1hsoQoY"
      },
      "execution_count": null,
      "outputs": []
    },
    {
      "cell_type": "markdown",
      "source": [
        "# Notes"
      ],
      "metadata": {
        "id": "stLnSz803g_5"
      }
    },
    {
      "cell_type": "markdown",
      "source": [
        "## I. Underfitting\n",
        "The model is underfitting because the training loss and validation loss are close.  This means our network is small and can scale it up by changing our hyperparameters:\n",
        "- neruons in hidden layer (tanh)\n",
        "- change dimensionality in embedding layer of the characters\n",
        "- change number of characters in input layer\n",
        "- learning rate\n",
        "- number of iterations\n",
        "- minibatch size"
      ],
      "metadata": {
        "id": "aA81pI43m478"
      }
    },
    {
      "cell_type": "markdown",
      "source": [
        "## II. Embedding Concatenation\n",
        "We need to concate the embeddings for the 2 words (chars) together to be able to matrix multiply with `W1`.\n",
        "\n",
        "1. `torch.cat([emb[:, 0, :], emb[:, 1, :], emb[:, 2, :]], 1)`\n",
        "2. `torch.cat(torch.unbind(emb, 1))`\n",
        "3. `emb.view(32, 6)`"
      ],
      "metadata": {
        "id": "rn_Xeo-qR95K"
      }
    },
    {
      "cell_type": "code",
      "source": [
        "# need to concate the embeddings for the 3 words (characters)\n",
        "emb_cat = torch.cat([emb[:, 0, :], emb[:, 1, :], emb[:, 2, :]], 1)\n",
        "emb_unbind = torch.cat(torch.unbind(emb, 1), 1)\n",
        "emb_view = emb.view(32, 6)\n",
        "\n",
        "emb_cat.shape, emb_unbind.shape, emb_view.shape"
      ],
      "metadata": {
        "colab": {
          "base_uri": "https://localhost:8080/"
        },
        "id": "0StgwJmOQbSp",
        "outputId": "4ebae999-8fc3-4552-e794-751da1b520eb"
      },
      "execution_count": 50,
      "outputs": [
        {
          "output_type": "execute_result",
          "data": {
            "text/plain": [
              "(torch.Size([32, 6]), torch.Size([32, 6]), torch.Size([32, 6]))"
            ]
          },
          "metadata": {},
          "execution_count": 50
        }
      ]
    }
  ]
}