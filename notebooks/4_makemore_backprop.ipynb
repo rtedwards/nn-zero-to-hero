{
  "nbformat": 4,
  "nbformat_minor": 0,
  "metadata": {
    "colab": {
      "provenance": [],
      "authorship_tag": "ABX9TyNnKQ2+p3FCm3xlJkkBkD8T",
      "include_colab_link": true
    },
    "kernelspec": {
      "name": "python3",
      "display_name": "Python 3"
    },
    "language_info": {
      "name": "python"
    }
  },
  "cells": [
    {
      "cell_type": "markdown",
      "metadata": {
        "id": "view-in-github",
        "colab_type": "text"
      },
      "source": [
        "<a href=\"https://colab.research.google.com/github/rtedwards/nn-zero-to-hero/blob/main/notebooks/4_makemore_backprop.ipynb\" target=\"_parent\"><img src=\"https://colab.research.google.com/assets/colab-badge.svg\" alt=\"Open In Colab\"/></a>"
      ]
    },
    {
      "cell_type": "markdown",
      "source": [
        "# Back Propagation\n",
        "- [Yes you should understand BackProp](https://medium.com/@karpathy/yes-you-should-understand-backprop-e2f06eab496b)\n",
        "- Need to understand back prop to be able to debug"
      ],
      "metadata": {
        "id": "Ecb717m8kDJW"
      }
    },
    {
      "cell_type": "code",
      "source": [
        "import random\n",
        "\n",
        "import torch\n",
        "import torch.nn.functional as F\n",
        "import matplotlib.pyplot as plt\n",
        "%matplotlib inline\n",
        "from tqdm.notebook import tqdm"
      ],
      "metadata": {
        "id": "8ei9y6L9kCaA"
      },
      "execution_count": 2,
      "outputs": []
    },
    {
      "cell_type": "code",
      "source": [
        "words = open(\"names.txt\", \"r\").read().splitlines()"
      ],
      "metadata": {
        "id": "vP0DeN-qlkxQ"
      },
      "execution_count": 3,
      "outputs": []
    },
    {
      "cell_type": "code",
      "source": [
        "# build the vocabulary of characters and mappings to/from integers\n",
        "chars = sorted(list(set(\"\".join(words))))\n",
        "stoi = {s:i+1 for i,s in enumerate(chars)}\n",
        "stoi[\".\"] = 0\n",
        "itos = {i:s for s, i in stoi.items()}\n",
        "vocab_size = len(itos)\n",
        "print(itos)\n",
        "print(vocab_size)"
      ],
      "metadata": {
        "colab": {
          "base_uri": "https://localhost:8080/"
        },
        "id": "ZagqPI1YllUp",
        "outputId": "51e5cded-6993-49ec-c3a0-a111b0c74065"
      },
      "execution_count": 4,
      "outputs": [
        {
          "output_type": "stream",
          "name": "stdout",
          "text": [
            "{1: 'a', 2: 'b', 3: 'c', 4: 'd', 5: 'e', 6: 'f', 7: 'g', 8: 'h', 9: 'i', 10: 'j', 11: 'k', 12: 'l', 13: 'm', 14: 'n', 15: 'o', 16: 'p', 17: 'q', 18: 'r', 19: 's', 20: 't', 21: 'u', 22: 'v', 23: 'w', 24: 'x', 25: 'y', 26: 'z', 0: '.'}\n",
            "27\n"
          ]
        }
      ]
    },
    {
      "cell_type": "markdown",
      "source": [
        "## I. Build Dataset"
      ],
      "metadata": {
        "id": "cGcZoRHclp4b"
      }
    },
    {
      "cell_type": "code",
      "source": [
        "def build_dataset(words, block_size = 3):\n",
        "    \"\"\"\n",
        "    - block_size - context length: how many characters fo we take to predict the next one?\n",
        "    \"\"\"\n",
        "    X, Y = [], []\n",
        "    for w in words:\n",
        "        context = [0] * block_size\n",
        "        for ch in w + \".\":\n",
        "            ix = stoi[ch]\n",
        "            X.append(context)\n",
        "            Y.append(ix)\n",
        "\n",
        "            context = context[1:] + [ix] # crop and append\n",
        "\n",
        "    X = torch.tensor(X)\n",
        "    Y = torch.tensor(Y)\n",
        "\n",
        "    print(X.shape, Y.shape)\n",
        "    return X, Y"
      ],
      "metadata": {
        "id": "_qOxeP9QllW9"
      },
      "execution_count": 5,
      "outputs": []
    },
    {
      "cell_type": "markdown",
      "source": [
        "## II. Data set Splits\n",
        "\n",
        "- Training (80%) - used to optimize the model parameters\n",
        "- Validation (10%) - used to optimize the model hyperparameters(number of neurons, size of hidden layer, size of embedding, strength of regularization)\n",
        "- Test (10%) - used to evaluate model as it generalizes to unseen data"
      ],
      "metadata": {
        "id": "OcRtqhNcl1NG"
      }
    },
    {
      "cell_type": "code",
      "source": [
        "# train / validation / test splits\n",
        "random.seed(42)\n",
        "random.shuffle(words)\n",
        "n1 = int(0.8 * len(words))\n",
        "n2 = int(0.9 * len(words))\n",
        "block_size = 3 # number of previous characters\n",
        "\n",
        "X_train, Y_train = build_dataset(words[:n1], block_size)\n",
        "X_val, Y_val = build_dataset(words[n1:n2], block_size)\n",
        "X_test, Y_test = build_dataset(words[n2:], block_size)"
      ],
      "metadata": {
        "colab": {
          "base_uri": "https://localhost:8080/"
        },
        "id": "LZnUfDbkllZb",
        "outputId": "6d6e505f-2e00-4431-ca85-0c4b34e7c6df"
      },
      "execution_count": 6,
      "outputs": [
        {
          "output_type": "stream",
          "name": "stdout",
          "text": [
            "torch.Size([182625, 3]) torch.Size([182625])\n",
            "torch.Size([22655, 3]) torch.Size([22655])\n",
            "torch.Size([22866, 3]) torch.Size([22866])\n"
          ]
        }
      ]
    },
    {
      "cell_type": "code",
      "source": [
        "# utility function we will use later when comparing manual gradients to PyTorch gradients\n",
        "def cmp(s, dt, t):\n",
        "    ex = torch.all(dt == t.grad).item()\n",
        "    app = torch.allclose(dt, t.grad)\n",
        "    maxdiff = (dt - t.grad).abs().max().item()\n",
        "    print(f'{s:15s} | exact: {str(ex):5s} | approximate: {str(app):5s} | maxdiff: {maxdiff}')"
      ],
      "metadata": {
        "id": "21kOk8tGllbz"
      },
      "execution_count": 7,
      "outputs": []
    },
    {
      "cell_type": "code",
      "source": [
        "n_embd = 10 # the dimensionality of the character embedding vectors\n",
        "n_hidden = 64 # the number of neurons in the hidden layer of the MLP\n",
        "\n",
        "g = torch.Generator().manual_seed(2147483647) # for reproducibility\n",
        "# embedding layer for characters\n",
        "C  = torch.randn((vocab_size, n_embd),            generator=g)\n",
        "\n",
        "# Layer 1\n",
        "W1 = torch.randn((n_embd * block_size, n_hidden), generator=g) * (5/3)/((n_embd * block_size)**0.5)\n",
        "b1 = torch.randn(n_hidden,                        generator=g) * 0.1 # using b1 just for fun, it's useless because of BN\n",
        "\n",
        "# Layer 2\n",
        "W2 = torch.randn((n_hidden, vocab_size),          generator=g) * 0.1\n",
        "b2 = torch.randn(vocab_size,                      generator=g) * 0.1\n",
        "\n",
        "# BatchNorm parameters\n",
        "bn_gain = torch.randn((1, n_hidden))*0.1 + 1.0\n",
        "bn_bias = torch.randn((1, n_hidden))*0.1\n",
        "\n",
        "# Note: I am initializating many of these parameters in non-standard ways\n",
        "# because sometimes initializating with e.g. all zeros could mask an incorrect\n",
        "# implementation of the backward pass.\n",
        "\n",
        "parameters = [C, W1, b1, W2, b2, bn_gain, bn_bias]\n",
        "print(sum(p.nelement() for p in parameters)) # number of parameters in total\n",
        "for p in parameters:\n",
        "    p.requires_grad = True\n"
      ],
      "metadata": {
        "colab": {
          "base_uri": "https://localhost:8080/"
        },
        "id": "83Ct79n3llig",
        "outputId": "753c68ad-d76b-4329-971a-35fb589cee2c"
      },
      "execution_count": 10,
      "outputs": [
        {
          "output_type": "stream",
          "name": "stdout",
          "text": [
            "4137\n"
          ]
        }
      ]
    },
    {
      "cell_type": "code",
      "source": [
        "batch_size = 32\n",
        "n = batch_size # a shorter variable also, for convenience\n",
        "\n",
        "# construct a minibatch\n",
        "ix = torch.randint(0, X_train.shape[0], (batch_size,), generator=g)\n",
        "Xb, Yb = X_train[ix], Y_train[ix] # batch X,Y"
      ],
      "metadata": {
        "id": "Dy00dr6blllV"
      },
      "execution_count": 11,
      "outputs": []
    },
    {
      "cell_type": "code",
      "source": [
        "# forward pass, \"chunkated\" into smaller steps that are possible to backward one at a time\n",
        "\n",
        "emb = C[Xb] # embed the characters into vectors\n",
        "embcat = emb.view(emb.shape[0], -1) # concatenate the vectors\n",
        "\n",
        "# Linear layer 1\n",
        "hprebn = embcat @ W1 + b1 # hidden layer pre-activation\n",
        "\n",
        "# BatchNorm layer\n",
        "bn_mean_i = 1/n*hprebn.sum(0, keepdim=True)\n",
        "bn_diff = hprebn - bn_mean_i\n",
        "bn_diff2 = bn_diff**2\n",
        "bn_var = 1/(n-1)*(bn_diff2).sum(0, keepdim=True) # note: Bessel's correction (dividing by n-1, not n)\n",
        "bn_var_inv = (bn_var + 1e-5)**-0.5\n",
        "bn_raw = bn_diff * bn_var_inv\n",
        "hpreact = bn_gain * bn_raw + bn_bias\n",
        "\n",
        "# Non-linearity\n",
        "h = torch.tanh(hpreact) # hidden layer\n",
        "\n",
        "# Linear layer 2\n",
        "logits = h @ W2 + b2 # output layer\n",
        "\n",
        "# cross entropy loss (same as F.cross_entropy(logits, Yb))\n",
        "logit_maxes = logits.max(1, keepdim=True).values\n",
        "norm_logits = logits - logit_maxes # subtract max for numerical stability\n",
        "counts = norm_logits.exp()\n",
        "counts_sum = counts.sum(1, keepdims=True)\n",
        "counts_sum_inv = counts_sum**-1 # if I use (1.0 / counts_sum) instead then I can't get backprop to be bit exact...\n",
        "probs = counts * counts_sum_inv\n",
        "logprobs = probs.log()\n",
        "loss = -logprobs[range(n), Yb].mean()\n",
        "\n",
        "# PyTorch backward pass\n",
        "for p in parameters:\n",
        "  p.grad = None\n",
        "for t in [logprobs, probs, counts, counts_sum, counts_sum_inv, # afaik there is no cleaner way\n",
        "          norm_logits, logit_maxes, logits, h, hpreact, bn_raw,\n",
        "         bn_var_inv, bn_var, bn_diff2, bn_diff, hprebn, bn_mean_i,\n",
        "         embcat, emb]:\n",
        "  t.retain_grad()\n",
        "loss.backward()\n",
        "loss"
      ],
      "metadata": {
        "colab": {
          "base_uri": "https://localhost:8080/"
        },
        "id": "fWuHKFD0llnt",
        "outputId": "82564526-a151-4cb3-b95c-2efd0a31ecc6"
      },
      "execution_count": 12,
      "outputs": [
        {
          "output_type": "execute_result",
          "data": {
            "text/plain": [
              "tensor(3.3506, grad_fn=<NegBackward0>)"
            ]
          },
          "metadata": {},
          "execution_count": 12
        }
      ]
    },
    {
      "cell_type": "code",
      "source": [
        "# Exercise 1: backprop through the whole thing manually,\n",
        "# backpropagating through exactly all of the variables\n",
        "# as they are defined in the forward pass above, one by one\n",
        "\n",
        "d_logprobs = torch.zeros_like(logprobs) #1 / probs[range(n)].log() # 1 / (x ln a)\n",
        "d_logprobs[range(n), Yb] = -1.0 / n # d/dxi of -(x1 + x2 + ... + xn) / n\n",
        "d_probs = 1 / probs * d_logprobs    # (local_derivative * chained_derivatives)\n",
        "d_counts_sum_inv = (counts * d_probs).sum(1, keepdim=True) # (local_derivative * chained_derivatives) then sum across columns\n",
        "d_counts = counts_sum_inv * d_probs\n",
        "d_counts_sum = -(counts_sum)**-2 * d_counts_sum_inv\n",
        "d_counts += torch.ones_like(counts) * d_counts_sum # (add the 2 branches that rely on counts)\n",
        "d_norm_logits = norm_logits.exp() * d_counts\n",
        "d_logits = d_norm_logits.clone()\n",
        "d_logit_maxes = (-d_norm_logits).sum(1, keepdim=True)\n",
        "d_logits += F.one_hot(logits.max(1).indices, num_classes=logits.shape[1]) * d_logit_maxes\n",
        "d_h = None\n",
        "d_W2 = None\n",
        "d_b2 = None\n",
        "d_hpreact = None\n",
        "d_bn_gain = None\n",
        "d_bn_bias = None\n",
        "d_bn_raw = None\n",
        "d_bn_var_inv = None\n",
        "d_bn_var = None\n",
        "d_bn_diff2 = None\n",
        "d_bn_diff = None\n",
        "d_bn_mean_i = None\n",
        "d_hprebn = None\n",
        "d_embcat = None\n",
        "d_W1 = None\n",
        "d_b1 = None\n",
        "d_emb = None\n",
        "d_C = None\n",
        "\n",
        "cmp('logprobs', d_logprobs, logprobs)\n",
        "cmp('probs', d_probs, probs)\n",
        "cmp('counts_sum_inv', d_counts_sum_inv, counts_sum_inv)\n",
        "cmp('counts_sum', d_counts_sum, counts_sum)\n",
        "cmp('counts', d_counts, counts)\n",
        "cmp('norm_logits', d_norm_logits, norm_logits)\n",
        "cmp('logit_maxes', d_logit_maxes, logit_maxes)\n",
        "cmp('logits', d_logits, logits)\n",
        "# cmp('h', d_h, h)\n",
        "# cmp('W2', d_W2, W2)\n",
        "# cmp('b2', d_b2, b2)\n",
        "# cmp('hpreact', d_hpreact, hpreact)\n",
        "# cmp('bngain', d_bn_gain, bn_gain)\n",
        "# cmp('bnbias', d_bn_bias, bn_bias)\n",
        "# cmp('bnraw', d_bn_raw, bn_raw)\n",
        "# cmp('bnvar_inv', d_bn_var_inv, bn_var_inv)\n",
        "# cmp('bnvar', d_bn_var, bn_var)\n",
        "# cmp('bndiff2', d_bn_diff2, bn_diff2)\n",
        "# cmp('bndiff', d_bn_diff, bn_diff)\n",
        "# cmp('bnmeani', d_bn_mean_i, bn_mean_i)\n",
        "# cmp('hprebn', d_hprebn, hprebn)\n",
        "# cmp('embcat', d_embcat, embcat)\n",
        "# cmp('W1', d_W1, W1)\n",
        "# cmp('b1', d_b1, b1)\n",
        "# cmp('emb', d_emb, emb)\n",
        "# cmp('C', d_C, C)"
      ],
      "metadata": {
        "colab": {
          "base_uri": "https://localhost:8080/"
        },
        "id": "2wf-BDKDllqr",
        "outputId": "94dbac10-ba66-41ee-ba1c-9a0fd4682d05"
      },
      "execution_count": 26,
      "outputs": [
        {
          "output_type": "stream",
          "name": "stdout",
          "text": [
            "logprobs        | exact: True  | approximate: True  | maxdiff: 0.0\n",
            "probs           | exact: True  | approximate: True  | maxdiff: 0.0\n",
            "counts_sum_inv  | exact: True  | approximate: True  | maxdiff: 0.0\n",
            "counts_sum      | exact: True  | approximate: True  | maxdiff: 0.0\n",
            "counts          | exact: True  | approximate: True  | maxdiff: 0.0\n",
            "norm_logits     | exact: True  | approximate: True  | maxdiff: 0.0\n",
            "logit_maxes     | exact: True  | approximate: True  | maxdiff: 0.0\n",
            "logits          | exact: True  | approximate: True  | maxdiff: 0.0\n"
          ]
        }
      ]
    },
    {
      "cell_type": "code",
      "source": [
        "# Exercise 2: backprop through cross_entropy but all in one go\n",
        "# to complete this challenge look at the mathematical expression of the loss,\n",
        "# take the derivative, simplify the expression, and just write it out\n",
        "\n",
        "# forward pass\n",
        "\n",
        "# before:\n",
        "# logit_maxes = logits.max(1, keepdim=True).values\n",
        "# norm_logits = logits - logit_maxes # subtract max for numerical stability\n",
        "# counts = norm_logits.exp()\n",
        "# counts_sum = counts.sum(1, keepdims=True)\n",
        "# counts_sum_inv = counts_sum**-1 # if I use (1.0 / counts_sum) instead then I can't get backprop to be bit exact...\n",
        "# probs = counts * counts_sum_inv\n",
        "# logprobs = probs.log()\n",
        "# loss = -logprobs[range(n), Yb].mean()\n",
        "\n",
        "# now:\n",
        "loss_fast = F.cross_entropy(logits, Yb)\n",
        "print(loss_fast.item(), 'diff:', (loss_fast - loss).item())"
      ],
      "metadata": {
        "id": "pXL2fdXMlltC"
      },
      "execution_count": null,
      "outputs": []
    },
    {
      "cell_type": "code",
      "source": [
        "# backward pass\n",
        "# --------\n",
        "# Your Code Here\n",
        "# --------\n",
        "\n",
        "cmp('logits', d_logits, logits) # I can only get approximate to be true, my maxdiff is 6e-9"
      ],
      "metadata": {
        "id": "5aLNqmSvpFdJ"
      },
      "execution_count": null,
      "outputs": []
    },
    {
      "cell_type": "code",
      "source": [],
      "metadata": {
        "id": "00VcmjEmpFfe"
      },
      "execution_count": null,
      "outputs": []
    },
    {
      "cell_type": "code",
      "source": [],
      "metadata": {
        "id": "TIN8VxMypFhc"
      },
      "execution_count": null,
      "outputs": []
    }
  ]
}