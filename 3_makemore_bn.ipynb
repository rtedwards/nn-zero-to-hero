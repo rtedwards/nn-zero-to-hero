{
  "nbformat": 4,
  "nbformat_minor": 0,
  "metadata": {
    "colab": {
      "provenance": [],
      "gpuType": "T4",
      "authorship_tag": "ABX9TyMiV4HPKqPgun6h8Hx5DyRX",
      "include_colab_link": true
    },
    "kernelspec": {
      "name": "python3",
      "display_name": "Python 3"
    },
    "language_info": {
      "name": "python"
    },
    "accelerator": "GPU",
    "widgets": {
      "application/vnd.jupyter.widget-state+json": {
        "91e9ce31b28447df86f56de0b5b8e6da": {
          "model_module": "@jupyter-widgets/controls",
          "model_name": "HBoxModel",
          "model_module_version": "1.5.0",
          "state": {
            "_dom_classes": [],
            "_model_module": "@jupyter-widgets/controls",
            "_model_module_version": "1.5.0",
            "_model_name": "HBoxModel",
            "_view_count": null,
            "_view_module": "@jupyter-widgets/controls",
            "_view_module_version": "1.5.0",
            "_view_name": "HBoxView",
            "box_style": "",
            "children": [
              "IPY_MODEL_c4688ffb49994ece90b139c4d4d7f908",
              "IPY_MODEL_4ab3d933060e47e69dd00b58bc9fbbca",
              "IPY_MODEL_e9635049884d40ab9639ccec363f8b61"
            ],
            "layout": "IPY_MODEL_d298eb07a39d445283e9731352f72a7b"
          }
        },
        "c4688ffb49994ece90b139c4d4d7f908": {
          "model_module": "@jupyter-widgets/controls",
          "model_name": "HTMLModel",
          "model_module_version": "1.5.0",
          "state": {
            "_dom_classes": [],
            "_model_module": "@jupyter-widgets/controls",
            "_model_module_version": "1.5.0",
            "_model_name": "HTMLModel",
            "_view_count": null,
            "_view_module": "@jupyter-widgets/controls",
            "_view_module_version": "1.5.0",
            "_view_name": "HTMLView",
            "description": "",
            "description_tooltip": null,
            "layout": "IPY_MODEL_384650e6e37a4a3fb46c2cb2f1912540",
            "placeholder": "​",
            "style": "IPY_MODEL_9b750c3089c0479b86036e3cf6e0ca1f",
            "value": "100%"
          }
        },
        "4ab3d933060e47e69dd00b58bc9fbbca": {
          "model_module": "@jupyter-widgets/controls",
          "model_name": "FloatProgressModel",
          "model_module_version": "1.5.0",
          "state": {
            "_dom_classes": [],
            "_model_module": "@jupyter-widgets/controls",
            "_model_module_version": "1.5.0",
            "_model_name": "FloatProgressModel",
            "_view_count": null,
            "_view_module": "@jupyter-widgets/controls",
            "_view_module_version": "1.5.0",
            "_view_name": "ProgressView",
            "bar_style": "success",
            "description": "",
            "description_tooltip": null,
            "layout": "IPY_MODEL_1f5dbb37ec6145a6b9b7bf80e78cdd1e",
            "max": 200000,
            "min": 0,
            "orientation": "horizontal",
            "style": "IPY_MODEL_fff917efb0664525a16f3c16eb4fc0af",
            "value": 200000
          }
        },
        "e9635049884d40ab9639ccec363f8b61": {
          "model_module": "@jupyter-widgets/controls",
          "model_name": "HTMLModel",
          "model_module_version": "1.5.0",
          "state": {
            "_dom_classes": [],
            "_model_module": "@jupyter-widgets/controls",
            "_model_module_version": "1.5.0",
            "_model_name": "HTMLModel",
            "_view_count": null,
            "_view_module": "@jupyter-widgets/controls",
            "_view_module_version": "1.5.0",
            "_view_name": "HTMLView",
            "description": "",
            "description_tooltip": null,
            "layout": "IPY_MODEL_037b29a1f700449a80a651c0e603990c",
            "placeholder": "​",
            "style": "IPY_MODEL_eb4087e3558949609c79612b3a4a2ff1",
            "value": " 200000/200000 [03:41&lt;00:00, 729.68it/s]"
          }
        },
        "d298eb07a39d445283e9731352f72a7b": {
          "model_module": "@jupyter-widgets/base",
          "model_name": "LayoutModel",
          "model_module_version": "1.2.0",
          "state": {
            "_model_module": "@jupyter-widgets/base",
            "_model_module_version": "1.2.0",
            "_model_name": "LayoutModel",
            "_view_count": null,
            "_view_module": "@jupyter-widgets/base",
            "_view_module_version": "1.2.0",
            "_view_name": "LayoutView",
            "align_content": null,
            "align_items": null,
            "align_self": null,
            "border": null,
            "bottom": null,
            "display": null,
            "flex": null,
            "flex_flow": null,
            "grid_area": null,
            "grid_auto_columns": null,
            "grid_auto_flow": null,
            "grid_auto_rows": null,
            "grid_column": null,
            "grid_gap": null,
            "grid_row": null,
            "grid_template_areas": null,
            "grid_template_columns": null,
            "grid_template_rows": null,
            "height": null,
            "justify_content": null,
            "justify_items": null,
            "left": null,
            "margin": null,
            "max_height": null,
            "max_width": null,
            "min_height": null,
            "min_width": null,
            "object_fit": null,
            "object_position": null,
            "order": null,
            "overflow": null,
            "overflow_x": null,
            "overflow_y": null,
            "padding": null,
            "right": null,
            "top": null,
            "visibility": null,
            "width": null
          }
        },
        "384650e6e37a4a3fb46c2cb2f1912540": {
          "model_module": "@jupyter-widgets/base",
          "model_name": "LayoutModel",
          "model_module_version": "1.2.0",
          "state": {
            "_model_module": "@jupyter-widgets/base",
            "_model_module_version": "1.2.0",
            "_model_name": "LayoutModel",
            "_view_count": null,
            "_view_module": "@jupyter-widgets/base",
            "_view_module_version": "1.2.0",
            "_view_name": "LayoutView",
            "align_content": null,
            "align_items": null,
            "align_self": null,
            "border": null,
            "bottom": null,
            "display": null,
            "flex": null,
            "flex_flow": null,
            "grid_area": null,
            "grid_auto_columns": null,
            "grid_auto_flow": null,
            "grid_auto_rows": null,
            "grid_column": null,
            "grid_gap": null,
            "grid_row": null,
            "grid_template_areas": null,
            "grid_template_columns": null,
            "grid_template_rows": null,
            "height": null,
            "justify_content": null,
            "justify_items": null,
            "left": null,
            "margin": null,
            "max_height": null,
            "max_width": null,
            "min_height": null,
            "min_width": null,
            "object_fit": null,
            "object_position": null,
            "order": null,
            "overflow": null,
            "overflow_x": null,
            "overflow_y": null,
            "padding": null,
            "right": null,
            "top": null,
            "visibility": null,
            "width": null
          }
        },
        "9b750c3089c0479b86036e3cf6e0ca1f": {
          "model_module": "@jupyter-widgets/controls",
          "model_name": "DescriptionStyleModel",
          "model_module_version": "1.5.0",
          "state": {
            "_model_module": "@jupyter-widgets/controls",
            "_model_module_version": "1.5.0",
            "_model_name": "DescriptionStyleModel",
            "_view_count": null,
            "_view_module": "@jupyter-widgets/base",
            "_view_module_version": "1.2.0",
            "_view_name": "StyleView",
            "description_width": ""
          }
        },
        "1f5dbb37ec6145a6b9b7bf80e78cdd1e": {
          "model_module": "@jupyter-widgets/base",
          "model_name": "LayoutModel",
          "model_module_version": "1.2.0",
          "state": {
            "_model_module": "@jupyter-widgets/base",
            "_model_module_version": "1.2.0",
            "_model_name": "LayoutModel",
            "_view_count": null,
            "_view_module": "@jupyter-widgets/base",
            "_view_module_version": "1.2.0",
            "_view_name": "LayoutView",
            "align_content": null,
            "align_items": null,
            "align_self": null,
            "border": null,
            "bottom": null,
            "display": null,
            "flex": null,
            "flex_flow": null,
            "grid_area": null,
            "grid_auto_columns": null,
            "grid_auto_flow": null,
            "grid_auto_rows": null,
            "grid_column": null,
            "grid_gap": null,
            "grid_row": null,
            "grid_template_areas": null,
            "grid_template_columns": null,
            "grid_template_rows": null,
            "height": null,
            "justify_content": null,
            "justify_items": null,
            "left": null,
            "margin": null,
            "max_height": null,
            "max_width": null,
            "min_height": null,
            "min_width": null,
            "object_fit": null,
            "object_position": null,
            "order": null,
            "overflow": null,
            "overflow_x": null,
            "overflow_y": null,
            "padding": null,
            "right": null,
            "top": null,
            "visibility": null,
            "width": null
          }
        },
        "fff917efb0664525a16f3c16eb4fc0af": {
          "model_module": "@jupyter-widgets/controls",
          "model_name": "ProgressStyleModel",
          "model_module_version": "1.5.0",
          "state": {
            "_model_module": "@jupyter-widgets/controls",
            "_model_module_version": "1.5.0",
            "_model_name": "ProgressStyleModel",
            "_view_count": null,
            "_view_module": "@jupyter-widgets/base",
            "_view_module_version": "1.2.0",
            "_view_name": "StyleView",
            "bar_color": null,
            "description_width": ""
          }
        },
        "037b29a1f700449a80a651c0e603990c": {
          "model_module": "@jupyter-widgets/base",
          "model_name": "LayoutModel",
          "model_module_version": "1.2.0",
          "state": {
            "_model_module": "@jupyter-widgets/base",
            "_model_module_version": "1.2.0",
            "_model_name": "LayoutModel",
            "_view_count": null,
            "_view_module": "@jupyter-widgets/base",
            "_view_module_version": "1.2.0",
            "_view_name": "LayoutView",
            "align_content": null,
            "align_items": null,
            "align_self": null,
            "border": null,
            "bottom": null,
            "display": null,
            "flex": null,
            "flex_flow": null,
            "grid_area": null,
            "grid_auto_columns": null,
            "grid_auto_flow": null,
            "grid_auto_rows": null,
            "grid_column": null,
            "grid_gap": null,
            "grid_row": null,
            "grid_template_areas": null,
            "grid_template_columns": null,
            "grid_template_rows": null,
            "height": null,
            "justify_content": null,
            "justify_items": null,
            "left": null,
            "margin": null,
            "max_height": null,
            "max_width": null,
            "min_height": null,
            "min_width": null,
            "object_fit": null,
            "object_position": null,
            "order": null,
            "overflow": null,
            "overflow_x": null,
            "overflow_y": null,
            "padding": null,
            "right": null,
            "top": null,
            "visibility": null,
            "width": null
          }
        },
        "eb4087e3558949609c79612b3a4a2ff1": {
          "model_module": "@jupyter-widgets/controls",
          "model_name": "DescriptionStyleModel",
          "model_module_version": "1.5.0",
          "state": {
            "_model_module": "@jupyter-widgets/controls",
            "_model_module_version": "1.5.0",
            "_model_name": "DescriptionStyleModel",
            "_view_count": null,
            "_view_module": "@jupyter-widgets/base",
            "_view_module_version": "1.2.0",
            "_view_name": "StyleView",
            "description_width": ""
          }
        }
      }
    }
  },
  "cells": [
    {
      "cell_type": "markdown",
      "metadata": {
        "id": "view-in-github",
        "colab_type": "text"
      },
      "source": [
        "<a href=\"https://colab.research.google.com/github/rtedwards/nn-zero-to-hero/blob/main/3_makemore_bn.ipynb\" target=\"_parent\"><img src=\"https://colab.research.google.com/assets/colab-badge.svg\" alt=\"Open In Colab\"/></a>"
      ]
    },
    {
      "cell_type": "markdown",
      "source": [],
      "metadata": {
        "id": "Z6hTTMdG4NkS"
      }
    },
    {
      "cell_type": "markdown",
      "source": [
        "# Recurrent Neural Network (RNN)"
      ],
      "metadata": {
        "id": "BwmeKL9L4O4L"
      }
    },
    {
      "cell_type": "code",
      "execution_count": 106,
      "metadata": {
        "id": "rsPq-xFi4Ma5"
      },
      "outputs": [],
      "source": [
        "import random\n",
        "\n",
        "import altair as alt\n",
        "import pandas as pd\n",
        "import torch\n",
        "import torch.nn.functional as F\n",
        "import matplotlib.pyplot as plt\n",
        "%matplotlib inline\n",
        "from tqdm.notebook import tqdm"
      ]
    },
    {
      "cell_type": "code",
      "source": [
        "words = open(\"names.txt\", \"r\").read().splitlines()"
      ],
      "metadata": {
        "id": "Cm4Qg4Zmkkve"
      },
      "execution_count": 107,
      "outputs": []
    },
    {
      "cell_type": "code",
      "source": [
        "# build the vocabulary of characters and mappings to/from integers\n",
        "chars = sorted(list(set(\"\".join(words))))\n",
        "stoi = {s:i+1 for i,s in enumerate(chars)}\n",
        "stoi[\".\"] = 0\n",
        "itos = {i:s for s, i in stoi.items()}\n",
        "vocab_size = len(itos)\n",
        "print(itos)\n",
        "print(vocab_size)"
      ],
      "metadata": {
        "colab": {
          "base_uri": "https://localhost:8080/"
        },
        "id": "-xS0oD42kmfG",
        "outputId": "da7fe017-e774-4f8f-d493-2fee8da10028"
      },
      "execution_count": 108,
      "outputs": [
        {
          "output_type": "stream",
          "name": "stdout",
          "text": [
            "{1: 'a', 2: 'b', 3: 'c', 4: 'd', 5: 'e', 6: 'f', 7: 'g', 8: 'h', 9: 'i', 10: 'j', 11: 'k', 12: 'l', 13: 'm', 14: 'n', 15: 'o', 16: 'p', 17: 'q', 18: 'r', 19: 's', 20: 't', 21: 'u', 22: 'v', 23: 'w', 24: 'x', 25: 'y', 26: 'z', 0: '.'}\n",
            "27\n"
          ]
        }
      ]
    },
    {
      "cell_type": "markdown",
      "source": [
        "## I. Build Dataset"
      ],
      "metadata": {
        "id": "HVdHFBUMl-jH"
      }
    },
    {
      "cell_type": "code",
      "source": [
        "def build_dataset(words, block_size = 3):\n",
        "    \"\"\"\n",
        "    - block_size - context length: how many characters fo we take to predict the next one?\n",
        "    \"\"\"\n",
        "    X, Y = [], []\n",
        "    for w in words:\n",
        "        context = [0] * block_size\n",
        "        for ch in w + \".\":\n",
        "            ix = stoi[ch]\n",
        "            X.append(context)\n",
        "            Y.append(ix)\n",
        "\n",
        "            context = context[1:] + [ix] # crop and append\n",
        "\n",
        "    X = torch.tensor(X)\n",
        "    Y = torch.tensor(Y)\n",
        "\n",
        "    print(X.shape, Y.shape)\n",
        "    return X, Y"
      ],
      "metadata": {
        "id": "imDZ2VNBkz8R"
      },
      "execution_count": 109,
      "outputs": []
    },
    {
      "cell_type": "markdown",
      "source": [
        "## II. Data set Splits\n",
        "\n",
        "- Training (80%) - used to optimize the model parameters\n",
        "- Validation (10%) - used to optimize the model hyperparameters(number of neurons, size of hidden layer, size of embedding, strength of regularization)\n",
        "- Test (10%) - used to evaluate model as it generalizes to unseen data"
      ],
      "metadata": {
        "id": "43ka96OPk_SF"
      }
    },
    {
      "cell_type": "code",
      "source": [
        "# train / validation / test splits\n",
        "random.seed(42)\n",
        "random.shuffle(words)\n",
        "n1 = int(0.8 * len(words))\n",
        "n2 = int(0.9 * len(words))\n",
        "block_size = 3 # number of previous characters\n",
        "\n",
        "X_train, Y_train = build_dataset(words[:n1], block_size)\n",
        "X_val, Y_val = build_dataset(words[n1:n2], block_size)\n",
        "X_test, Y_test = build_dataset(words[n2:], block_size)"
      ],
      "metadata": {
        "colab": {
          "base_uri": "https://localhost:8080/"
        },
        "id": "1UQgJjTok_hF",
        "outputId": "de57a69f-1f4c-47c5-9777-f0dda016d251"
      },
      "execution_count": 110,
      "outputs": [
        {
          "output_type": "stream",
          "name": "stdout",
          "text": [
            "torch.Size([182625, 3]) torch.Size([182625])\n",
            "torch.Size([22655, 3]) torch.Size([22655])\n",
            "torch.Size([22866, 3]) torch.Size([22866])\n"
          ]
        }
      ]
    },
    {
      "cell_type": "markdown",
      "source": [
        "## III. Initialize Network (MLP)"
      ],
      "metadata": {
        "id": "n0indtLglKFQ"
      }
    },
    {
      "cell_type": "code",
      "source": [
        "n_embd = 10 # number of dimensions in embeddings\n",
        "fan_in = block_size * n_embd\n",
        "n_hidden = 200\n",
        "\n",
        "g = torch.Generator().manual_seed(2147483647)           # for reproducability\n",
        "C = torch.randn((vocab_size, n_embd),       generator=g)        # block_size embeddings\n",
        "W1 = torch.randn((fan_in, n_hidden),        generator=g) * (5/3) / (fan_in**0.5)  # kaiming initialization - https://pytorch.org/docs/stable/nn.init.html#torch.nn.init.kaiming_uniform_\n",
        "# b1 = torch.randn(n_hidden,                  generator=g) * 0.01\n",
        "W2 = torch.randn((n_hidden, vocab_size),    generator=g) * 0.01  # make W small so loss is smaller\n",
        "b2 = torch.randn(vocab_size,                generator=g) * 0.0  # removes initial bias\n",
        "\n",
        "# Batch Normalization parameters\n",
        "bn_gain = torch.ones((1, n_hidden))\n",
        "bn_bias = torch.zeros((1, n_hidden))\n",
        "bn_mean_running = torch.zeros((1, n_hidden))\n",
        "bn_std_running = torch.ones((1, n_hidden))\n",
        "parameters = [C, W1, W2, b2, bn_gain, bn_bias] # b1 (remove bias b/c BN will subtract it out)\n",
        "\n",
        "for p in parameters:\n",
        "    p.requires_grad = True\n",
        "\n",
        "print(f\"Num parameters: {sum(p.nelement() for p in parameters)}\")"
      ],
      "metadata": {
        "colab": {
          "base_uri": "https://localhost:8080/"
        },
        "id": "pzww3fUTlDxB",
        "outputId": "41f54d44-7aa7-4dd9-8321-da1f6e23bd7f"
      },
      "execution_count": 111,
      "outputs": [
        {
          "output_type": "stream",
          "name": "stdout",
          "text": [
            "Num parameters: 12097\n"
          ]
        }
      ]
    },
    {
      "cell_type": "markdown",
      "source": [
        "## IV. Training"
      ],
      "metadata": {
        "id": "Pfj1247WmB8c"
      }
    },
    {
      "cell_type": "code",
      "source": [
        "n_iters = 200_000\n",
        "batch_size = 32 # minibatch construct of 32 examples\n",
        "\n",
        "loss_i = []\n",
        "step_i = []\n",
        "\n",
        "for i in tqdm(range(n_iters)):\n",
        "    # minibatch construct\n",
        "    ix = torch.randint(0, X_train.shape[0], (batch_size,), generator=g)\n",
        "    Xb, Yb = X_train[ix], Y_train[ix]\n",
        "\n",
        "    # Forward Pass\n",
        "    emb = C[Xb] # embed the characters into vectors\n",
        "    embcat = emb.view(emb.shape[0], -1) # concatenate the vectors\n",
        "\n",
        "    # Linear Layer\n",
        "    hpreact = embcat @ W1 # + b1          # hidden layer pre-activation (remove bias b/c BN will subtract it out)\n",
        "\n",
        "    # Batch Normalization Layer\n",
        "    # -------------------------\n",
        "    eps = 1e-5\n",
        "    bn_mean_i = hpreact.mean(0, keepdims=True)\n",
        "    bn_std_i  = hpreact.std(0, keepdims=True)\n",
        "    hpreact_norm = (hpreact - bn_mean_i) / (bn_std_i + eps)     # normalization\n",
        "    hpreact_norm = bn_gain * hpreact_norm + bn_bias     # scale and shift\n",
        "\n",
        "    # running statistics\n",
        "    with torch.no_grad():\n",
        "        bn_mean_running = 0.999 * bn_mean_running + 0.001 * bn_mean_i\n",
        "        bn_std_running = 0.999 * bn_std_running + 0.001 * bn_std_i\n",
        "    # -------------------------\n",
        "\n",
        "    # Non-linearity\n",
        "    h = torch.tanh(hpreact_norm)        # hidden layer\n",
        "    logits = h @ W2 + b2                # output layer\n",
        "    loss = F.cross_entropy(logits, Yb)  # loss function\n",
        "\n",
        "    # Backward Pass\n",
        "    for p in parameters:\n",
        "        p.grad = None\n",
        "    loss.backward()\n",
        "\n",
        "    # Update\n",
        "    lr = 0.1 if i < 100_000 else 0.01 # learning rate decay\n",
        "    for p in parameters:\n",
        "        p.data += -lr * p.grad\n",
        "\n",
        "    # Track Stats\n",
        "    step_i.append(i)\n",
        "    loss_i.append(loss.log10().item())\n",
        "\n",
        "    # break\n",
        "print(f\"minibatch loss: {loss.item()}\")"
      ],
      "metadata": {
        "colab": {
          "base_uri": "https://localhost:8080/",
          "height": 68,
          "referenced_widgets": [
            "91e9ce31b28447df86f56de0b5b8e6da",
            "c4688ffb49994ece90b139c4d4d7f908",
            "4ab3d933060e47e69dd00b58bc9fbbca",
            "e9635049884d40ab9639ccec363f8b61",
            "d298eb07a39d445283e9731352f72a7b",
            "384650e6e37a4a3fb46c2cb2f1912540",
            "9b750c3089c0479b86036e3cf6e0ca1f",
            "1f5dbb37ec6145a6b9b7bf80e78cdd1e",
            "fff917efb0664525a16f3c16eb4fc0af",
            "037b29a1f700449a80a651c0e603990c",
            "eb4087e3558949609c79612b3a4a2ff1"
          ]
        },
        "id": "I_2qBHRVlj2N",
        "outputId": "04b0cb4e-b94f-402e-d5d2-a9de13a6fe45"
      },
      "execution_count": 112,
      "outputs": [
        {
          "output_type": "display_data",
          "data": {
            "text/plain": [
              "  0%|          | 0/200000 [00:00<?, ?it/s]"
            ],
            "application/vnd.jupyter.widget-view+json": {
              "version_major": 2,
              "version_minor": 0,
              "model_id": "91e9ce31b28447df86f56de0b5b8e6da"
            }
          },
          "metadata": {}
        },
        {
          "output_type": "stream",
          "name": "stdout",
          "text": [
            "minibatch loss: 2.0136284828186035\n"
          ]
        }
      ]
    },
    {
      "cell_type": "code",
      "source": [
        "plt.plot(step_i, loss_i)"
      ],
      "metadata": {
        "colab": {
          "base_uri": "https://localhost:8080/",
          "height": 449
        },
        "id": "z0g7iCX9nktg",
        "outputId": "3537b4c5-1ff7-42bf-f08d-16b562ce95a4"
      },
      "execution_count": 113,
      "outputs": [
        {
          "output_type": "execute_result",
          "data": {
            "text/plain": [
              "[<matplotlib.lines.Line2D at 0x7b03b2081a20>]"
            ]
          },
          "metadata": {},
          "execution_count": 113
        },
        {
          "output_type": "display_data",
          "data": {
            "text/plain": [
              "<Figure size 640x480 with 1 Axes>"
            ],
            "image/png": "[encoded data removed]"
          },
          "metadata": {}
        }
      ]
    },
    {
      "cell_type": "code",
      "source": [
        "@torch.no_grad() # disables gradient tracking\n",
        "def split_loss(split):\n",
        "    x,y = {\n",
        "        \"train\": (X_train, Y_train),\n",
        "        \"validation\": (X_val, Y_val),\n",
        "        \"test\": (X_test, Y_test),\n",
        "    }[split]\n",
        "\n",
        "    emb = C[x] # (N, block_size, n_embd)\n",
        "    embcat = emb.view(emb.shape[0], -1) # concate into (N, block_size * n_embd)\n",
        "    hpreact = embcat @ W1 + b1\n",
        "\n",
        "    # Batch Normalization\n",
        "    hpreact_norm = (hpreact - bn_mean_running) / bn_std_running # normalization\n",
        "    hpreact_norm = bn_gain * hpreact_norm + bn_bias             # scale and shift\n",
        "\n",
        "    h = torch.tanh(hpreact_norm) # (N, n_hidden)\n",
        "\n",
        "    logits = h @ W2 + b2 # (N, vocab_size)\n",
        "    loss = F.cross_entropy(logits, y)\n",
        "    print(f\"{split}: {loss.item()}\")\n",
        "\n",
        "split_loss(\"train\")\n",
        "split_loss(\"validation\")"
      ],
      "metadata": {
        "colab": {
          "base_uri": "https://localhost:8080/"
        },
        "id": "ducEBoiEn5ky",
        "outputId": "0ea3d5d7-1cd2-43e2-b35f-f17bf6861b4a"
      },
      "execution_count": 114,
      "outputs": [
        {
          "output_type": "stream",
          "name": "stdout",
          "text": [
            "train: 2.0674192905426025\n",
            "validation: 2.105670928955078\n"
          ]
        }
      ]
    },
    {
      "cell_type": "markdown",
      "source": [
        "## V. Inference"
      ],
      "metadata": {
        "id": "i0XMcekBo_ai"
      }
    },
    {
      "cell_type": "code",
      "source": [
        "def generate_name(generator):\n",
        "    out = []\n",
        "    context = [0] * block_size # initialize with all ...\n",
        "    while True:\n",
        "        # forward pass the nerual net\n",
        "        emb = C[torch.tensor([context])] # (1, block_size, n_emb)\n",
        "        embcat = emb.view((emb.shape[0], -1)) # concatenate vectors\n",
        "        hpreact = embcat @ W1 #+ b1\n",
        "\n",
        "        # Batch Normalization\n",
        "        hpreact_norm = (hpreact - bn_mean_running) / bn_std_running # normalization\n",
        "        hpreact_norm = bn_gain * hpreact_norm + bn_bias             # scale and shift\n",
        "\n",
        "        h = torch.tanh(hpreact_norm)        # hidden layer\n",
        "        logits = h @ W2 + b2                # output layer\n",
        "        probs = F.softmax(logits, dim=1)\n",
        "\n",
        "        # sample from distribution\n",
        "        ix = torch.multinomial(probs, num_samples=1, generator=generator).item()\n",
        "\n",
        "        # shift the context window and track the samples\n",
        "        context = context[1:] + [ix]\n",
        "        out.append(ix)\n",
        "\n",
        "        # if we sample the special '.' token, break\n",
        "        if ix == 0:\n",
        "            break\n",
        "\n",
        "    # decode and print the generated word\n",
        "    return \"\".join(itos[i] for i in out)"
      ],
      "metadata": {
        "id": "GvPvFzqW4U76"
      },
      "execution_count": 115,
      "outputs": []
    },
    {
      "cell_type": "code",
      "source": [
        "# sample from the model\n",
        "g = torch.Generator().manual_seed(2147483647 + 10)\n",
        "\n",
        "for _ in range(20):\n",
        "    name = generate_name(g)\n",
        "    print(name)\n",
        ""
      ],
      "metadata": {
        "colab": {
          "base_uri": "https://localhost:8080/"
        },
        "id": "o6RtE79AozPg",
        "outputId": "8d0a999c-1009-47ea-fe91-a5d286725608"
      },
      "execution_count": 105,
      "outputs": [
        {
          "output_type": "stream",
          "name": "stdout",
          "text": [
            "erbujgmyazzhzevvndhfyalwqetvrsjejdrljg.\n",
            "ozcjedoeliihsmpqppalekepxvqnwxarqeptzcmhvqrpcn.\n",
            "szdbvrgxhgmjestqjcjrwjkjqqxntpucfkubzmgvdcrxyqqufmehg.\n",
            "kmejqvskkydmzhjl.\n",
            "cakyybsufpzbjglvjurenjcrtvwsvevoeczpfhdxjfqyxoeobhggpcixjsfcueywhkhmrjolvii.\n",
            "qirffevpkxwvlla.\n",
            "odtabfsztpndgoikvsbmitgfkxvbssivpu.\n",
            "meewrkepxcmvyhxavttudkjgczekhgcgtipvtudw.\n",
            "iwbdnihzvorlq.\n",
            "cjakepxugniagcfpppfmiipzjgvonxet.\n",
            "jydnblkskzporygnogsvmwosfzybsyknvmjcxtkncjbmu.\n",
            "jtew.\n",
            "aow.\n",
            "copmrlxkzdcqbcep.\n",
            "ccdfivsnicimhtecmokfgouwzlrurdckappomtcokwxtnbnzkdphfam.\n",
            "xcojfffuncxzhosyjsj.\n",
            "ascnpc.\n",
            "cilwtanczhrdtebimm.\n",
            "ynw.\n",
            "luzjaghwehtvggujbklwvofjiuzx.\n"
          ]
        }
      ]
    },
    {
      "cell_type": "markdown",
      "source": [
        "# Notes\n",
        "- use [torch.nn.init.kaiming_uniform_()](https://pytorch.org/docs/stable/nn.init.html#torch.nn.init.kaiming_uniform_) to initialize weights"
      ],
      "metadata": {
        "id": "BGi9TWzBsxJE"
      }
    },
    {
      "cell_type": "markdown",
      "source": [
        "## Loss Log\n",
        "\n",
        "|                       | Train | Validation |\n",
        "|-----------------------|-------|------------|\n",
        "| Original              | 2.12  | 2.17       |\n",
        "| Fix softmax           | 2.07  | 2.13       |\n",
        "| fix `tanh` Saturation | 2.04  | 2.10       |\n",
        "\n",
        "- Original - from 1_makemore_mlp\n",
        "- Fix Softmax - The softmax was confidently wrong.  We fixed this by zeroing the bias `b2` and squashing the weights `W2`.\n",
        "- Fix `tanh` Saturation - The `tanh` was too saturated at initialization creating too many dead neurons.  We fixed this by squashing `hpreact` so that the values coming out of `tanh` are well-behaved (more uniformly distributed histogram rather than only extremes of `(-1, 1)`).  We do this by squashing `b1` and `W1`.\n",
        "- These problems begin to stack with more layers in the neural network."
      ],
      "metadata": {
        "id": "w3V4qngKBKxG"
      }
    },
    {
      "cell_type": "markdown",
      "source": [
        "## Initial Bias and Training\n",
        "If loss starts off high initially (graph looks like hocky stick), it means there was an initial bias in the weights that throws off the logits.  We can zero `b2` and squash the weights (make `W2` small) to offset this."
      ],
      "metadata": {
        "id": "u1SJfRK1uVGc"
      }
    },
    {
      "cell_type": "markdown",
      "source": [
        "## Vanishing Gradients of `h`\n",
        "\n",
        "1. We can see from the histogram that the `tanh` is very activate because most values are either `-1.0` or `1.0`.\n",
        "2. This is because the distribution of preactivation is quite broad (-20, 20)\n",
        "3. During backpropagation, if `tanh` is in the flat region (-1.0 or 1.0) the gradient will be zero.  This means the neuron will just pass gradients through it and will not learn.\n",
        "    - can happen by chance during initialization that the weights and biases initialize dead neurons\n",
        "    - can occur during optimization.  If learning rate is too large some neurons could have too large of a gradient and get knocked out of the data manifold.  Will remain dead forever.\n",
        "    - Activation functions affected - any with flat regions: `tanh`, `sigmoid`, `ReLU`, `ELU`\n",
        "    - to fix, we want `preact` closer to zero\n",
        "\n",
        "$$\n",
        "\\begin{align}\n",
        "\\tanh(x) &= \\frac{e^{2x} - 1}{e^{2x} + 1} \\\\\n",
        "\\frac{d}{dx}\\tanh(x) &= 1 - \\tanh^2(x)\n",
        "\\end{align}\n",
        "$$\n",
        "\n",
        "</br>\n",
        "where $\\tanh(x) = -1$ or $\\tanh(x) = 1$\n",
        "</br>\n",
        "\n",
        "$$\n",
        "\\begin{align}\n",
        "\\frac{d}{dx}\\tanh(x) &= 1 - \\tanh^2(x) \\\\\n",
        "&= 1 - (-1)^2 \\\\\n",
        "&= 0\n",
        "\\\\\n",
        "\\frac{d}{dx}\\tanh(x) &= 1 - \\tanh^2(x) \\\\\n",
        "&= 1 - (1)^2 \\\\\n",
        "&= 0\n",
        "\\end{align}\n",
        "$$"
      ],
      "metadata": {
        "id": "jFc-tOO7ubqf"
      }
    },
    {
      "cell_type": "markdown",
      "source": [
        "### 1. tanh values\n",
        "\n",
        "We can see from the histogram that the `tanh` is very activate because most values are either `-1.0` or `1.0`."
      ],
      "metadata": {
        "id": "YIX_S_vw2RP6"
      }
    },
    {
      "cell_type": "code",
      "source": [
        "fig, (ax1, ax2) = plt.subplots(1, 2)\n",
        "fig.set_figwidth(10)\n",
        "fig.set_figheight(3)\n",
        "\n",
        "ax1.hist(h.view(-1).tolist(), 100);\n",
        "ax1.set_title(\"`h`\")\n",
        "ax2.hist(hpreact.view(-1).tolist(), 100);\n",
        "ax2.set_title(\"`hpreact`\")"
      ],
      "metadata": {
        "id": "gKKwBQCg2GTX"
      },
      "execution_count": null,
      "outputs": []
    },
    {
      "cell_type": "markdown",
      "source": [
        "below, we can see the 32 examples with the 200 neurons\n",
        "- white means the neuron was \"active\" where the tanh value > 0.99\n",
        "- dead neuron - if a column is all white, the neuron is active for all examples then it will never learn"
      ],
      "metadata": {
        "id": "ep21TbQp40Ys"
      }
    },
    {
      "cell_type": "code",
      "source": [
        "plt.figure(figsize=(10, 20))\n",
        "plt.imshow(h.abs() > 0.99, cmap=\"gray\", interpolation=\"nearest\")"
      ],
      "metadata": {
        "id": "4Zugnh5U4Bwr"
      },
      "execution_count": null,
      "outputs": []
    },
    {
      "cell_type": "markdown",
      "source": [
        "### 2. Vanishing `tanh` gradients\n",
        "\n",
        "- During backpropagation, if `tanh` is -1.0 or 1.0 (flat region) the gradient will be near zero.\n",
        "- The gradients passing through the neuron in the graph will just be passed through because $\\text{self.grad} += (1 - \\approx 0^2) * \\text{out.grad}$"
      ],
      "metadata": {
        "id": "8H_AAkoL2Z2r"
      }
    },
    {
      "cell_type": "code",
      "source": [
        "fig, (ax1, ax2) = plt.subplots(1, 2)\n",
        "fig.set_figwidth(10)\n",
        "fig.set_figheight(3)\n",
        "\n",
        "# tanh(x)\n",
        "x_values = torch.linspace(-3.0, 3.0, 100)\n",
        "y_values = torch.tanh(x_values)\n",
        "ax1.plot(x_values, y_values)\n",
        "ax1.set_title(\"tanh(x)\")\n",
        "\n",
        "#tanh'(x)\n",
        "y_values = 1 - torch.tanh(x_values)**2\n",
        "ax2.plot(x_values, y_values)\n",
        "ax2.set_title(\"tanh'(x)\")"
      ],
      "metadata": {
        "id": "IJ-cWj6vyMMI"
      },
      "execution_count": null,
      "outputs": []
    },
    {
      "cell_type": "markdown",
      "source": [
        "## Batch Normalization\n",
        "- [Batch Normalization: Accelerating Deep Network Training by Reducing Internal Covariate Shift](https://arxiv.org/abs/1502.03167)\n",
        "- Pros:\n",
        "    - stabilizes training - controls distributions of activations\n",
        "    - regularizing effect\n",
        "    - allows training deeper neural nets\n",
        "- Cons:\n",
        "    - couples examples to other in the batch\n",
        "\n",
        "Just using batch normalization of $\\frac{x_i - \\bar{x}}{\\sigma^2(x)}$ will not acheive good results.  We want it to be roughly Guassian, but only at initialization.  We don't want to force the activation to always be Guassian.  We'd like to allow the neural net to move it around, to make it more diffuse (wider) or more sharp (narrower).  We want to let the backpropagation to tell it how to move around.  We can allow this by adding a scale factor, $\\gamma$, and gain, $\\beta$:\n",
        "\n",
        "$$\n",
        "y_i \\leftarrow \\gamma \\widehat{x}_i + \\beta \\equiv \\text{BN}_{\\gamma,\\beta} (x_i)\n",
        "$$\n",
        "\n",
        "If we set\n",
        "- $\\gamma = 1$\n",
        "- $\\beta = 0$\n",
        "\n",
        "$$\n",
        "y_i \\leftarrow 1 \\widehat{x}_i + 0 \\equiv \\text{BN}_{\\gamma,\\beta} (x_i)\n",
        "$$\n",
        "\n",
        "then at initialization, each neuron's firing value, `h`, in this batch will be exactly unit Guassian and will have \"nice\" numbers regardless of distribution of `hpreact`.  Then during backpropagation, $\\gamma$ and $\\beta$ will adjust with the network as needed.\n",
        "\n",
        "**Tips:**\n",
        "- Append a Batch Normalization layer right after a Linera Layer or Convolutional Layer to control the scale of the activations throught the neural net\n",
        "- batch normalization couples the examples in each batch.  The hidden preactivations are going to change slightly depending on which other randomly samples examples are in the same batch.  `h` and `logits` will jitter.  This acts as a regularization by introducing entropy, which makes it more difficult for the neural net to overfit.\n",
        "- Batch Normalization with subtley remove any biases in linear layers because any bias `b1` added will be removed when the mean $\\bar{x}$ is subtracted.  This means we're wasting CPU cycles including a bias.  Best to remove from initialization.  The BN bias `bn_bias` becomes responsible for handling the bias.\n",
        "- Momentum:\n",
        "    - set momentum lower if using a small batch (e.g. 32 examples with momentum 0.001).  If set too high, the mean and std will not converge properly\n",
        "    - set momentum higher if using a large batch (e.g. 256 examples with momentum 0.1)\n",
        "\n",
        "Normalizations that do no couple examples in a batch:\n",
        "    - linear normalization\n",
        "    - instance normalization\n",
        "    - group normalization"
      ],
      "metadata": {
        "id": "ctwZD23-uzVj"
      }
    },
    {
      "cell_type": "markdown",
      "source": [
        "# Torchifying the Code"
      ],
      "metadata": {
        "id": "XB0mif1fJIGN"
      }
    },
    {
      "cell_type": "code",
      "source": [
        "class Linear:\n",
        "    def __init__(self, fan_in, fan_out, bias=True):\n",
        "        self.weight = torch.randn((fan_in, fan_out), generator=g) / fan_in**0.5\n",
        "        self.bias = torch.zeros(fan_out) if bias else None\n",
        "\n",
        "    def __call__(self, x):\n",
        "        self.out = x @ self.weight\n",
        "        if self.bias is not None:\n",
        "            self.out += self.bias\n",
        "        return self.weight\n",
        "\n",
        "    def parameters(self):\n",
        "        return [self.weight] + ([] if self.bias is None else [self.bias])\n",
        "\n",
        "class BatchNorm1d:\n",
        "    def __init__(self, dim, eps=1e-5, momentum = 0.1):\n",
        ""
      ],
      "metadata": {
        "id": "2ZOfAdaCupQD"
      },
      "execution_count": null,
      "outputs": []
    },
    {
      "cell_type": "code",
      "source": [],
      "metadata": {
        "id": "KW53LE24AiJ1"
      },
      "execution_count": null,
      "outputs": []
    }
  ]
}